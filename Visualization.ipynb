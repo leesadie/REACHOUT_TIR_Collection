{
 "cells": [
  {
   "cell_type": "markdown",
   "id": "0e06deb7",
   "metadata": {},
   "source": [
    "# TIR Visualization Example"
   ]
  },
  {
   "cell_type": "code",
   "execution_count": 2,
   "id": "ebe42552",
   "metadata": {},
   "outputs": [],
   "source": [
    "library(tidyverse)"
   ]
  },
  {
   "cell_type": "code",
   "execution_count": 3,
   "id": "609acdff",
   "metadata": {},
   "outputs": [
    {
     "data": {
      "text/html": [
       "<table>\n",
       "<thead><tr><th scope=col>TIR</th><th scope=col>TBR_VL</th><th scope=col>TBR_L</th><th scope=col>TAR_H</th><th scope=col>TAR_VH</th><th scope=col>GMI</th><th scope=col>SD</th><th scope=col>CV</th><th scope=col>Sensor</th><th scope=col>ID</th><th scope=col>Time</th><th scope=col>Group</th></tr></thead>\n",
       "<tbody>\n",
       "\t<tr><td>71.1     </td><td>0        </td><td>0.3      </td><td>24.4     </td><td>3.5      </td><td>4        </td><td>0.2      </td><td>5        </td><td>70       </td><td>1        </td><td>Baseline </td><td>Treatment</td></tr>\n",
       "</tbody>\n",
       "</table>\n"
      ],
      "text/latex": [
       "\\begin{tabular}{r|llllllllllll}\n",
       " TIR & TBR\\_VL & TBR\\_L & TAR\\_H & TAR\\_VH & GMI & SD & CV & Sensor & ID & Time & Group\\\\\n",
       "\\hline\n",
       "\t 71.1      & 0         & 0.3       & 24.4      & 3.5       & 4         & 0.2       & 5         & 70        & 1         & Baseline  & Treatment\\\\\n",
       "\\end{tabular}\n"
      ],
      "text/markdown": [
       "\n",
       "| TIR | TBR_VL | TBR_L | TAR_H | TAR_VH | GMI | SD | CV | Sensor | ID | Time | Group |\n",
       "|---|---|---|---|---|---|---|---|---|---|---|---|\n",
       "| 71.1      | 0         | 0.3       | 24.4      | 3.5       | 4         | 0.2       | 5         | 70        | 1         | Baseline  | Treatment |\n",
       "\n"
      ],
      "text/plain": [
       "  TIR  TBR_VL TBR_L TAR_H TAR_VH GMI SD  CV Sensor ID Time     Group    \n",
       "1 71.1 0      0.3   24.4  3.5    4   0.2 5  70     1  Baseline Treatment"
      ]
     },
     "metadata": {},
     "output_type": "display_data"
    }
   ],
   "source": [
    "TIR = 71.1\n",
    "TBR_VL = 0\n",
    "TBR_L = 0.3\n",
    "TAR_H = 24.4\n",
    "TAR_VH = 3.5\n",
    "GMI = 4\n",
    "SD = 0.2\n",
    "CV = 5\n",
    "Sensor = 70\n",
    "ID = 1\n",
    "Time = \"Baseline\"\n",
    "Group = \"Treatment\"\n",
    "\n",
    "baseline_treatment <- tibble(TIR, TBR_VL, TBR_L, TAR_H, TAR_VH, GMI, SD, CV, Sensor, ID, Time, Group)\n",
    "baseline_treatment"
   ]
  },
  {
   "cell_type": "code",
   "execution_count": 4,
   "id": "fca6215c",
   "metadata": {},
   "outputs": [
    {
     "data": {
      "text/html": [
       "<table>\n",
       "<thead><tr><th scope=col>TIR</th><th scope=col>TBR_VL</th><th scope=col>TBR_L</th><th scope=col>TAR_H</th><th scope=col>TAR_VH</th><th scope=col>GMI</th><th scope=col>SD</th><th scope=col>CV</th><th scope=col>Sensor</th><th scope=col>ID</th><th scope=col>Time</th><th scope=col>Group</th></tr></thead>\n",
       "<tbody>\n",
       "\t<tr><td>98.7     </td><td>0        </td><td>0.5      </td><td>0.8      </td><td>1.3      </td><td>4        </td><td>0.2      </td><td>5        </td><td>70       </td><td>1        </td><td>6-months </td><td>Treatment</td></tr>\n",
       "</tbody>\n",
       "</table>\n"
      ],
      "text/latex": [
       "\\begin{tabular}{r|llllllllllll}\n",
       " TIR & TBR\\_VL & TBR\\_L & TAR\\_H & TAR\\_VH & GMI & SD & CV & Sensor & ID & Time & Group\\\\\n",
       "\\hline\n",
       "\t 98.7      & 0         & 0.5       & 0.8       & 1.3       & 4         & 0.2       & 5         & 70        & 1         & 6-months  & Treatment\\\\\n",
       "\\end{tabular}\n"
      ],
      "text/markdown": [
       "\n",
       "| TIR | TBR_VL | TBR_L | TAR_H | TAR_VH | GMI | SD | CV | Sensor | ID | Time | Group |\n",
       "|---|---|---|---|---|---|---|---|---|---|---|---|\n",
       "| 98.7      | 0         | 0.5       | 0.8       | 1.3       | 4         | 0.2       | 5         | 70        | 1         | 6-months  | Treatment |\n",
       "\n"
      ],
      "text/plain": [
       "  TIR  TBR_VL TBR_L TAR_H TAR_VH GMI SD  CV Sensor ID Time     Group    \n",
       "1 98.7 0      0.5   0.8   1.3    4   0.2 5  70     1  6-months Treatment"
      ]
     },
     "metadata": {},
     "output_type": "display_data"
    }
   ],
   "source": [
    "TIR = 98.7\n",
    "TBR_VL = 0\n",
    "TBR_L = 0.5\n",
    "TAR_H = 0.8\n",
    "TAR_VH = 1.3\n",
    "GMI = 4\n",
    "SD = 0.2\n",
    "CV = 5\n",
    "Sensor = 70\n",
    "ID = 1\n",
    "Time = \"6-months\"\n",
    "Group = \"Treatment\"\n",
    "\n",
    "six_mo_treatment <- tibble(TIR, TBR_VL, TBR_L, TAR_H, TAR_VH, GMI, SD, CV, Sensor, ID, Time, Group)\n",
    "six_mo_treatment"
   ]
  },
  {
   "cell_type": "code",
   "execution_count": 5,
   "id": "bd4608ee",
   "metadata": {},
   "outputs": [
    {
     "data": {
      "text/html": [
       "<table>\n",
       "<thead><tr><th scope=col>TIR</th><th scope=col>TBR_VL</th><th scope=col>TBR_L</th><th scope=col>TAR_H</th><th scope=col>TAR_VH</th><th scope=col>GMI</th><th scope=col>SD</th><th scope=col>CV</th><th scope=col>Sensor</th><th scope=col>ID</th><th scope=col>Time</th><th scope=col>Group</th></tr></thead>\n",
       "<tbody>\n",
       "\t<tr><td>56.6    </td><td>0       </td><td>0.3     </td><td>24.4    </td><td>3.5     </td><td>4       </td><td>0.2     </td><td>5       </td><td>70      </td><td>2       </td><td>Baseline</td><td>Waitlist</td></tr>\n",
       "</tbody>\n",
       "</table>\n"
      ],
      "text/latex": [
       "\\begin{tabular}{r|llllllllllll}\n",
       " TIR & TBR\\_VL & TBR\\_L & TAR\\_H & TAR\\_VH & GMI & SD & CV & Sensor & ID & Time & Group\\\\\n",
       "\\hline\n",
       "\t 56.6     & 0        & 0.3      & 24.4     & 3.5      & 4        & 0.2      & 5        & 70       & 2        & Baseline & Waitlist\\\\\n",
       "\\end{tabular}\n"
      ],
      "text/markdown": [
       "\n",
       "| TIR | TBR_VL | TBR_L | TAR_H | TAR_VH | GMI | SD | CV | Sensor | ID | Time | Group |\n",
       "|---|---|---|---|---|---|---|---|---|---|---|---|\n",
       "| 56.6     | 0        | 0.3      | 24.4     | 3.5      | 4        | 0.2      | 5        | 70       | 2        | Baseline | Waitlist |\n",
       "\n"
      ],
      "text/plain": [
       "  TIR  TBR_VL TBR_L TAR_H TAR_VH GMI SD  CV Sensor ID Time     Group   \n",
       "1 56.6 0      0.3   24.4  3.5    4   0.2 5  70     2  Baseline Waitlist"
      ]
     },
     "metadata": {},
     "output_type": "display_data"
    }
   ],
   "source": [
    "TIR = 56.6\n",
    "TBR_VL = 0\n",
    "TBR_L = 0.3\n",
    "TAR_H = 24.4\n",
    "TAR_VH = 3.5\n",
    "GMI = 4\n",
    "SD = 0.2\n",
    "CV = 5\n",
    "Sensor = 70\n",
    "ID = 2\n",
    "Time = \"Baseline\"\n",
    "Group = \"Waitlist\"\n",
    "\n",
    "baseline_waitlist <- tibble(TIR, TBR_VL, TBR_L, TAR_H, TAR_VH, GMI, SD, CV, Sensor, ID, Time, Group)\n",
    "baseline_waitlist"
   ]
  },
  {
   "cell_type": "code",
   "execution_count": 6,
   "id": "5c347d72",
   "metadata": {},
   "outputs": [
    {
     "data": {
      "text/html": [
       "<table>\n",
       "<thead><tr><th scope=col>TIR</th><th scope=col>TBR_VL</th><th scope=col>TBR_L</th><th scope=col>TAR_H</th><th scope=col>TAR_VH</th><th scope=col>GMI</th><th scope=col>SD</th><th scope=col>CV</th><th scope=col>Sensor</th><th scope=col>ID</th><th scope=col>Time</th><th scope=col>Group</th></tr></thead>\n",
       "<tbody>\n",
       "\t<tr><td>60      </td><td>0       </td><td>0.5     </td><td>0.8     </td><td>1.3     </td><td>4       </td><td>0.2     </td><td>5       </td><td>70      </td><td>2       </td><td>6-months</td><td>Waitlist</td></tr>\n",
       "</tbody>\n",
       "</table>\n"
      ],
      "text/latex": [
       "\\begin{tabular}{r|llllllllllll}\n",
       " TIR & TBR\\_VL & TBR\\_L & TAR\\_H & TAR\\_VH & GMI & SD & CV & Sensor & ID & Time & Group\\\\\n",
       "\\hline\n",
       "\t 60       & 0        & 0.5      & 0.8      & 1.3      & 4        & 0.2      & 5        & 70       & 2        & 6-months & Waitlist\\\\\n",
       "\\end{tabular}\n"
      ],
      "text/markdown": [
       "\n",
       "| TIR | TBR_VL | TBR_L | TAR_H | TAR_VH | GMI | SD | CV | Sensor | ID | Time | Group |\n",
       "|---|---|---|---|---|---|---|---|---|---|---|---|\n",
       "| 60       | 0        | 0.5      | 0.8      | 1.3      | 4        | 0.2      | 5        | 70       | 2        | 6-months | Waitlist |\n",
       "\n"
      ],
      "text/plain": [
       "  TIR TBR_VL TBR_L TAR_H TAR_VH GMI SD  CV Sensor ID Time     Group   \n",
       "1 60  0      0.5   0.8   1.3    4   0.2 5  70     2  6-months Waitlist"
      ]
     },
     "metadata": {},
     "output_type": "display_data"
    }
   ],
   "source": [
    "TIR = 60\n",
    "TBR_VL = 0\n",
    "TBR_L = 0.5\n",
    "TAR_H = 0.8\n",
    "TAR_VH = 1.3\n",
    "GMI = 4\n",
    "SD = 0.2\n",
    "CV = 5\n",
    "Sensor = 70\n",
    "ID = 2\n",
    "Time = \"6-months\"\n",
    "Group = \"Waitlist\"\n",
    "\n",
    "six_mo_waitlist <- tibble(TIR, TBR_VL, TBR_L, TAR_H, TAR_VH, GMI, SD, CV, Sensor, ID, Time, Group)\n",
    "six_mo_waitlist"
   ]
  },
  {
   "cell_type": "code",
   "execution_count": 7,
   "id": "58181b14",
   "metadata": {},
   "outputs": [
    {
     "data": {
      "text/html": [
       "<table>\n",
       "<thead><tr><th scope=col>TIR</th><th scope=col>TBR_VL</th><th scope=col>TBR_L</th><th scope=col>TAR_H</th><th scope=col>TAR_VH</th><th scope=col>GMI</th><th scope=col>SD</th><th scope=col>CV</th><th scope=col>Sensor</th><th scope=col>ID</th><th scope=col>Time</th><th scope=col>Group</th></tr></thead>\n",
       "<tbody>\n",
       "\t<tr><td>60            </td><td>0             </td><td>0.3           </td><td>24.4          </td><td>3.5           </td><td>4             </td><td>0.2           </td><td>5             </td><td>70            </td><td>3             </td><td>Baseline      </td><td>Peer Supporter</td></tr>\n",
       "</tbody>\n",
       "</table>\n"
      ],
      "text/latex": [
       "\\begin{tabular}{r|llllllllllll}\n",
       " TIR & TBR\\_VL & TBR\\_L & TAR\\_H & TAR\\_VH & GMI & SD & CV & Sensor & ID & Time & Group\\\\\n",
       "\\hline\n",
       "\t 60             & 0              & 0.3            & 24.4           & 3.5            & 4              & 0.2            & 5              & 70             & 3              & Baseline       & Peer Supporter\\\\\n",
       "\\end{tabular}\n"
      ],
      "text/markdown": [
       "\n",
       "| TIR | TBR_VL | TBR_L | TAR_H | TAR_VH | GMI | SD | CV | Sensor | ID | Time | Group |\n",
       "|---|---|---|---|---|---|---|---|---|---|---|---|\n",
       "| 60             | 0              | 0.3            | 24.4           | 3.5            | 4              | 0.2            | 5              | 70             | 3              | Baseline       | Peer Supporter |\n",
       "\n"
      ],
      "text/plain": [
       "  TIR TBR_VL TBR_L TAR_H TAR_VH GMI SD  CV Sensor ID Time     Group         \n",
       "1 60  0      0.3   24.4  3.5    4   0.2 5  70     3  Baseline Peer Supporter"
      ]
     },
     "metadata": {},
     "output_type": "display_data"
    }
   ],
   "source": [
    "TIR = 60\n",
    "TBR_VL = 0\n",
    "TBR_L = 0.3\n",
    "TAR_H = 24.4\n",
    "TAR_VH = 3.5\n",
    "GMI = 4\n",
    "SD = 0.2\n",
    "CV = 5\n",
    "Sensor = 70\n",
    "ID = 3\n",
    "Time = \"Baseline\"\n",
    "Group = \"Peer Supporter\"\n",
    "\n",
    "baseline_ps <- tibble(TIR, TBR_VL, TBR_L, TAR_H, TAR_VH, GMI, SD, CV, Sensor, ID, Time, Group)\n",
    "baseline_ps"
   ]
  },
  {
   "cell_type": "code",
   "execution_count": 8,
   "id": "2d271d0d",
   "metadata": {},
   "outputs": [
    {
     "data": {
      "text/html": [
       "<table>\n",
       "<thead><tr><th scope=col>TIR</th><th scope=col>TBR_VL</th><th scope=col>TBR_L</th><th scope=col>TAR_H</th><th scope=col>TAR_VH</th><th scope=col>GMI</th><th scope=col>SD</th><th scope=col>CV</th><th scope=col>Sensor</th><th scope=col>ID</th><th scope=col>Time</th><th scope=col>Group</th></tr></thead>\n",
       "<tbody>\n",
       "\t<tr><td>70            </td><td>0             </td><td>0.5           </td><td>0.8           </td><td>1.3           </td><td>4             </td><td>0.2           </td><td>5             </td><td>70            </td><td>3             </td><td>6-months      </td><td>Peer Supporter</td></tr>\n",
       "</tbody>\n",
       "</table>\n"
      ],
      "text/latex": [
       "\\begin{tabular}{r|llllllllllll}\n",
       " TIR & TBR\\_VL & TBR\\_L & TAR\\_H & TAR\\_VH & GMI & SD & CV & Sensor & ID & Time & Group\\\\\n",
       "\\hline\n",
       "\t 70             & 0              & 0.5            & 0.8            & 1.3            & 4              & 0.2            & 5              & 70             & 3              & 6-months       & Peer Supporter\\\\\n",
       "\\end{tabular}\n"
      ],
      "text/markdown": [
       "\n",
       "| TIR | TBR_VL | TBR_L | TAR_H | TAR_VH | GMI | SD | CV | Sensor | ID | Time | Group |\n",
       "|---|---|---|---|---|---|---|---|---|---|---|---|\n",
       "| 70             | 0              | 0.5            | 0.8            | 1.3            | 4              | 0.2            | 5              | 70             | 3              | 6-months       | Peer Supporter |\n",
       "\n"
      ],
      "text/plain": [
       "  TIR TBR_VL TBR_L TAR_H TAR_VH GMI SD  CV Sensor ID Time     Group         \n",
       "1 70  0      0.5   0.8   1.3    4   0.2 5  70     3  6-months Peer Supporter"
      ]
     },
     "metadata": {},
     "output_type": "display_data"
    }
   ],
   "source": [
    "TIR = 70\n",
    "TBR_VL = 0\n",
    "TBR_L = 0.5\n",
    "TAR_H = 0.8\n",
    "TAR_VH = 1.3\n",
    "GMI = 4\n",
    "SD = 0.2\n",
    "CV = 5\n",
    "Sensor = 70\n",
    "ID = 3\n",
    "Time = \"6-months\"\n",
    "Group = \"Peer Supporter\"\n",
    "\n",
    "six_mo_ps <- tibble(TIR, TBR_VL, TBR_L, TAR_H, TAR_VH, GMI, SD, CV, Sensor, ID, Time, Group)\n",
    "six_mo_ps"
   ]
  },
  {
   "cell_type": "code",
   "execution_count": 9,
   "id": "2a1890af",
   "metadata": {},
   "outputs": [
    {
     "data": {
      "text/html": [
       "<table>\n",
       "<thead><tr><th scope=col>TIR</th><th scope=col>TBR_VL</th><th scope=col>TBR_L</th><th scope=col>TAR_H</th><th scope=col>TAR_VH</th><th scope=col>GMI</th><th scope=col>SD</th><th scope=col>CV</th><th scope=col>Sensor</th><th scope=col>ID</th><th scope=col>Time</th><th scope=col>Group</th></tr></thead>\n",
       "<tbody>\n",
       "\t<tr><td>71.1          </td><td>0             </td><td>0.3           </td><td>24.4          </td><td>3.5           </td><td>4             </td><td>0.2           </td><td>5             </td><td>70            </td><td>1             </td><td>Baseline      </td><td>Treatment     </td></tr>\n",
       "\t<tr><td>98.7          </td><td>0             </td><td>0.5           </td><td> 0.8          </td><td>1.3           </td><td>4             </td><td>0.2           </td><td>5             </td><td>70            </td><td>1             </td><td>6-months      </td><td>Treatment     </td></tr>\n",
       "\t<tr><td>56.6          </td><td>0             </td><td>0.3           </td><td>24.4          </td><td>3.5           </td><td>4             </td><td>0.2           </td><td>5             </td><td>70            </td><td>2             </td><td>Baseline      </td><td>Waitlist      </td></tr>\n",
       "\t<tr><td>60.0          </td><td>0             </td><td>0.5           </td><td> 0.8          </td><td>1.3           </td><td>4             </td><td>0.2           </td><td>5             </td><td>70            </td><td>2             </td><td>6-months      </td><td>Waitlist      </td></tr>\n",
       "\t<tr><td>60.0          </td><td>0             </td><td>0.3           </td><td>24.4          </td><td>3.5           </td><td>4             </td><td>0.2           </td><td>5             </td><td>70            </td><td>3             </td><td>Baseline      </td><td>Peer Supporter</td></tr>\n",
       "\t<tr><td>70.0          </td><td>0             </td><td>0.5           </td><td> 0.8          </td><td>1.3           </td><td>4             </td><td>0.2           </td><td>5             </td><td>70            </td><td>3             </td><td>6-months      </td><td>Peer Supporter</td></tr>\n",
       "</tbody>\n",
       "</table>\n"
      ],
      "text/latex": [
       "\\begin{tabular}{r|llllllllllll}\n",
       " TIR & TBR\\_VL & TBR\\_L & TAR\\_H & TAR\\_VH & GMI & SD & CV & Sensor & ID & Time & Group\\\\\n",
       "\\hline\n",
       "\t 71.1           & 0              & 0.3            & 24.4           & 3.5            & 4              & 0.2            & 5              & 70             & 1              & Baseline       & Treatment     \\\\\n",
       "\t 98.7           & 0              & 0.5            &  0.8           & 1.3            & 4              & 0.2            & 5              & 70             & 1              & 6-months       & Treatment     \\\\\n",
       "\t 56.6           & 0              & 0.3            & 24.4           & 3.5            & 4              & 0.2            & 5              & 70             & 2              & Baseline       & Waitlist      \\\\\n",
       "\t 60.0           & 0              & 0.5            &  0.8           & 1.3            & 4              & 0.2            & 5              & 70             & 2              & 6-months       & Waitlist      \\\\\n",
       "\t 60.0           & 0              & 0.3            & 24.4           & 3.5            & 4              & 0.2            & 5              & 70             & 3              & Baseline       & Peer Supporter\\\\\n",
       "\t 70.0           & 0              & 0.5            &  0.8           & 1.3            & 4              & 0.2            & 5              & 70             & 3              & 6-months       & Peer Supporter\\\\\n",
       "\\end{tabular}\n"
      ],
      "text/markdown": [
       "\n",
       "| TIR | TBR_VL | TBR_L | TAR_H | TAR_VH | GMI | SD | CV | Sensor | ID | Time | Group |\n",
       "|---|---|---|---|---|---|---|---|---|---|---|---|\n",
       "| 71.1           | 0              | 0.3            | 24.4           | 3.5            | 4              | 0.2            | 5              | 70             | 1              | Baseline       | Treatment      |\n",
       "| 98.7           | 0              | 0.5            |  0.8           | 1.3            | 4              | 0.2            | 5              | 70             | 1              | 6-months       | Treatment      |\n",
       "| 56.6           | 0              | 0.3            | 24.4           | 3.5            | 4              | 0.2            | 5              | 70             | 2              | Baseline       | Waitlist       |\n",
       "| 60.0           | 0              | 0.5            |  0.8           | 1.3            | 4              | 0.2            | 5              | 70             | 2              | 6-months       | Waitlist       |\n",
       "| 60.0           | 0              | 0.3            | 24.4           | 3.5            | 4              | 0.2            | 5              | 70             | 3              | Baseline       | Peer Supporter |\n",
       "| 70.0           | 0              | 0.5            |  0.8           | 1.3            | 4              | 0.2            | 5              | 70             | 3              | 6-months       | Peer Supporter |\n",
       "\n"
      ],
      "text/plain": [
       "  TIR  TBR_VL TBR_L TAR_H TAR_VH GMI SD  CV Sensor ID Time     Group         \n",
       "1 71.1 0      0.3   24.4  3.5    4   0.2 5  70     1  Baseline Treatment     \n",
       "2 98.7 0      0.5    0.8  1.3    4   0.2 5  70     1  6-months Treatment     \n",
       "3 56.6 0      0.3   24.4  3.5    4   0.2 5  70     2  Baseline Waitlist      \n",
       "4 60.0 0      0.5    0.8  1.3    4   0.2 5  70     2  6-months Waitlist      \n",
       "5 60.0 0      0.3   24.4  3.5    4   0.2 5  70     3  Baseline Peer Supporter\n",
       "6 70.0 0      0.5    0.8  1.3    4   0.2 5  70     3  6-months Peer Supporter"
      ]
     },
     "metadata": {},
     "output_type": "display_data"
    }
   ],
   "source": [
    "combine <- rbind(baseline_treatment, six_mo_treatment, baseline_waitlist, six_mo_waitlist, baseline_ps, six_mo_ps)\n",
    "combine"
   ]
  },
  {
   "cell_type": "code",
   "execution_count": 12,
   "id": "41db9ef9",
   "metadata": {},
   "outputs": [
    {
     "name": "stderr",
     "output_type": "stream",
     "text": [
      "Saving 6.67 x 6.67 in image\n"
     ]
    },
    {
     "data": {
      "image/png": "[encoded data removed]",
      "text/plain": [
       "plot without title"
      ]
     },
     "metadata": {},
     "output_type": "display_data"
    }
   ],
   "source": [
    "options(repr.plot.width = 15, repr.plot.height = 9)\n",
    "\n",
    "Period <- factor(combine$Time, levels=c(\"Baseline\", \"6-months\"))\n",
    "\n",
    "plot2 <- \n",
    "    combine %>%\n",
    "    ggplot() +\n",
    "    geom_line(aes(x = Period, y = TIR, group = ID, color = Group), size = 1) +\n",
    "    geom_point(aes(x = Period, y = TIR, shape = Period, color = Group), size = 5) +\n",
    "    geom_hline(yintercept = 70, colour = \"red\", linetype = \"twodash\") +\n",
    "    annotate(\"text\", label = \"Target\", x = 2.5, y = 71, size = 6, colour = \"red\") +\n",
    "    scale_color_manual(values=c(\"#0000FF\", \"#741b47\", \"#ffa600\")) +\n",
    "    ggtitle(\"Time in Range before and after T1D REACHOUT intervention\") +\n",
    "    xlab(\"Period (Pre and post intervention)\") +\n",
    "    ylab(\"Time in Range (%)\") +\n",
    "    theme(text = element_text(size = 18, family = \"sans\"),\n",
    "          plot.title = element_text(face = \"bold\"),\n",
    "          axis.title = element_text(face = \"bold\")) +\n",
    "    ggsave(\"plot.png\") # you may need to adjust text size in order to view all text in the saved image\n",
    "plot2"
   ]
  },
  {
   "cell_type": "code",
   "execution_count": null,
   "id": "9a566151",
   "metadata": {},
   "outputs": [],
   "source": []
  }
 ],
 "metadata": {
  "kernelspec": {
   "display_name": "R",
   "language": "R",
   "name": "ir"
  },
  "language_info": {
   "codemirror_mode": "r",
   "file_extension": ".r",
   "mimetype": "text/x-r-source",
   "name": "R",
   "pygments_lexer": "r",
   "version": "3.6.1"
  }
 },
 "nbformat": 4,
 "nbformat_minor": 5
}
