{
 "cells": [
  {
   "cell_type": "markdown",
   "id": "e8e2ce22",
   "metadata": {},
   "source": [
    "# Time in Range Collection"
   ]
  },
  {
   "cell_type": "markdown",
   "id": "aa56d5aa",
   "metadata": {},
   "source": [
    "## Loading relevant libraries\n",
    "\n",
    "`tidyverse` is an R library that contains core packages used to read, analyze, and plot data"
   ]
  },
  {
   "cell_type": "code",
   "execution_count": null,
   "id": "28cbc694",
   "metadata": {},
   "outputs": [],
   "source": [
    "library(tidyverse)\n",
    "library(lubridate)"
   ]
  },
  {
   "cell_type": "markdown",
   "id": "244654bb",
   "metadata": {},
   "source": [
    "## Dexcom\n",
    "\n",
    "Given that the exported .csv files for Dexcom and FreeStyle Libre are formatted differently, reading and wrangling must also be carried out differently. Following this, the formula for calculating TIR is the same for both CGMS."
   ]
  },
  {
   "cell_type": "markdown",
   "id": "09e5e725",
   "metadata": {},
   "source": [
    "### Defining function"
   ]
  },
  {
   "cell_type": "code",
   "execution_count": null,
   "id": "be56b47a",
   "metadata": {},
   "outputs": [],
   "source": [
    "dexcom <- function(file) {\n",
    "    suppressWarnings({\n",
    "        read <- read_csv(file)\n",
    "        \n",
    "        # renaming columns for ease of use\n",
    "        names(read)[8] = 'Glucose_Value'\n",
    "        names(read)[2] = 'Timestamp'\n",
    "        names(read)[14] = 'Transmitter_ID'\n",
    "        names(read)[5] = 'Patient_Info'\n",
    "        \n",
    "        # creating string based on username and birthdate for ID so comparisons can be made across timepoints\n",
    "        info <- filter(read, Patient_Info != 'NA')\n",
    "        info_string <- info %>% pull(Patient_Info)\n",
    "        id_string <- paste(info_string, collapse = '')\n",
    "        id_string\n",
    "        \n",
    "        # removing top 11 rows that contain user's name and alert types\n",
    "        rows <- filter(read, Transmitter_ID != 'NA') %>%\n",
    "                filter(Glucose_Value != 'NA')\n",
    "        \n",
    "        # selecting only timestamp and glucose value columns for calculations\n",
    "        cols <- select(rows, Timestamp, Glucose_Value)\n",
    "        \n",
    "        # pulling vectors from columns\n",
    "        glucose_vector_str <- cols %>% pull(Glucose_Value)\n",
    "        glucose_vector <- as.double(glucose_vector_str) # converting to decimals\n",
    "        \n",
    "        time_vector <- cols %>% pull(Timestamp)\n",
    "        minutes <- minutes(time_vector) # number of readings in min\n",
    "        \n",
    "        # calculating percentage of sensor readings within 14 days\n",
    "        # only data from participants with >= 70% will be used\n",
    "        Sensor <- (length(glucose_vector) / 4032) * 100\n",
    "        \n",
    "        # calculations\n",
    "        Mean <- mean(glucose_vector, na.rm=TRUE) # mean average glucose\n",
    "        GMI <- 12.71 + 4.70587 * Mean # glucose management indicator (mmol/mol)\n",
    "        SD <- sd(glucose_vector, na.rm=TRUE) # standard deviation\n",
    "        CV <- SD / Mean # coefficient of variation\n",
    "        \n",
    "        # time in range\n",
    "        in_range <- sum(glucose_vector >= 3.9 & glucose_vector <= 10.0, na.rm=TRUE)\n",
    "        TIR <- round(in_range * 1000 / length(minutes)) / 10\n",
    "        \n",
    "        # very low\n",
    "        very_low <- sum(glucose_vector < 3.0, na.rm=TRUE)\n",
    "        TBR_VL <- round(very_low * 1000 / length(minutes)) / 10\n",
    "        \n",
    "        # low\n",
    "        low <- sum(glucose_vector >= 3.0 & glucose_vector <= 3.8, na.rm=TRUE)\n",
    "        TBR_L <- round(low * 1000 / length(minutes)) / 10\n",
    "        \n",
    "        # high\n",
    "        high <- sum(glucose_vector >= 10.1 & glucose_vector <= 13.9, na.rm=TRUE)\n",
    "        TAR_H <- round(high * 1000 / length(minutes)) / 10\n",
    "        \n",
    "        # very high\n",
    "        very_high <- sum(glucose_vector > 13.9, na.rm=TRUE)\n",
    "        TAR_VH <- round(very_high * 1000 / length(minutes)) / 10\n",
    "        \n",
    "        # consolidating relevant values into data frame\n",
    "        df <- data.frame(id_string, TIR, TBR_VL, TBR_L, TAR_H, TAR_VH, GMI, SD, CV, Sensor)\n",
    "    })\n",
    "}"
   ]
  },
  {
   "cell_type": "markdown",
   "id": "5a140ba1",
   "metadata": {},
   "source": [
    "### Applying Function - Waitlist Participants\n",
    "\n",
    "Calling the `dexcom` function on all .csv files in the Dexcom folder to create a data frame with all data from all participants in the waitlist group who use Dexcom\n",
    "\n",
    "In the final data frame and .csv file (adding both Dexcom and Freestyle Libre using participants to a single data frame), the participants' `id_string`, i.e. their name and birthday, will not be visible and they will be assigned to a unique ID."
   ]
  },
  {
   "cell_type": "code",
   "execution_count": null,
   "id": "5a1c7702",
   "metadata": {},
   "outputs": [],
   "source": [
    "dex_waitlist <- list.files(path = 'Data/Participants/Waitlist/Dexcom',    \n",
    "                       pattern = '*.csv', full.names = TRUE) %>% \n",
    "  lapply(dexcom) %>%                                           \n",
    "  bind_rows %>%\n",
    "    filter(Sensor >= 70.0)\n",
    "  \n",
    "dex_waitlist\n",
    "\n",
    "dex_waitlist_output <- 'Output/dex_waitlist.csv'\n",
    "write.csv(dex_waitlist, dex_waitlist_output)"
   ]
  },
  {
   "cell_type": "markdown",
   "id": "78464870",
   "metadata": {},
   "source": [
    "### Applying Function - Treatment Participants\n",
    "\n",
    "Calling the `dexcom` function on all .csv files in the Dexcom folder to create a data frame with all data from all participants in the treatment group who use Dexcom\n",
    "\n",
    "In the final data frame and .csv file (adding both Dexcom and Freestyle Libre using participants to a single data frame), the participants' `id_string`, i.e. their name and birthday, will not be visible and they will be assigned to a unique ID."
   ]
  },
  {
   "cell_type": "code",
   "execution_count": null,
   "id": "780f3cd5",
   "metadata": {},
   "outputs": [],
   "source": [
    "dex_treatment <- list.files(path = 'Data/Participants/Treatment/Dexcom',    \n",
    "                       pattern = '*.csv', full.names = TRUE) %>% \n",
    "  lapply(dexcom) %>%                                           \n",
    "  bind_rows %>%\n",
    "    filter(Sensor >= 70.0)\n",
    "  \n",
    "dex_treatment\n",
    "\n",
    "dex_treatment_output <- 'Output/dex_treatment.csv'\n",
    "write.csv(dex_treatment, dex_treatment_output)"
   ]
  },
  {
   "cell_type": "markdown",
   "id": "cb2d8d6a",
   "metadata": {},
   "source": [
    "### Applying Function - Peer Supporters\n",
    "\n",
    "Calling the `dexcom` function on all .csv files in the Dexcom folder to create a data frame with all data from all peer supporters who use Dexcom\n",
    "\n",
    "In the final data frame and .csv file (adding both Dexcom and Freestyle Libre using participants to a single data frame), the peer supporters' `id_string`, i.e. their name and birthday, will not be visible and they will be assigned to a unique ID."
   ]
  },
  {
   "cell_type": "code",
   "execution_count": null,
   "id": "79d1b822",
   "metadata": {},
   "outputs": [],
   "source": [
    "dex_ps <- list.files(path = 'Data/PeerSupporters/Dexcom',    \n",
    "                       pattern = '*.csv', full.names = TRUE) %>% \n",
    "  lapply(dexcom) %>%                                           \n",
    "  bind_rows %>%\n",
    "    filter(Sensor >= 70.0)\n",
    "dex_ps\n",
    "\n",
    "dex_ps_output <- 'Output/dex_ps.csv'\n",
    "write.csv(dex_ps, dex_ps_output)"
   ]
  },
  {
   "cell_type": "markdown",
   "id": "bfad4114",
   "metadata": {},
   "source": [
    "## Freestyle Libre 2"
   ]
  },
  {
   "cell_type": "markdown",
   "id": "33f3054e",
   "metadata": {},
   "source": [
    "### Defining function"
   ]
  },
  {
   "cell_type": "code",
   "execution_count": null,
   "id": "e4150374",
   "metadata": {},
   "outputs": [],
   "source": [
    "libre_2 <- function(file, d1, d2, d3, d4, d5, d6, d7, d8, d9, d10, d11, d12, d13, d14) {\n",
    "    suppressWarnings({\n",
    "        \n",
    "        # initial reading to create id\n",
    "        read_id <- read_csv(file)\n",
    "        names(read_id)[1] = 'Patient_report'\n",
    "        names(read_id)[2] = 'Generated_on'\n",
    "        \n",
    "        # creating string based on user name and birthdate for id\n",
    "        info <- filter(read_id, Patient_report != 'FreeStyle Libre 2') %>%\n",
    "                filter(Patient_report != 'FreeStyle LibreLink') %>%\n",
    "                filter(Patient_report != 'Device') %>%\n",
    "                select(Patient_report, Generated_on)\n",
    "        patient_string <- info %>% pull(Patient_report)\n",
    "        date_string <- info %>% pull(Generated_on)\n",
    "        id_string <- paste(patient_string, date_string, collapse = '')\n",
    "        \n",
    "        read <- read_csv(file, skip=2)\n",
    "        \n",
    "        # renaming columns for ease of modifying\n",
    "        names(read)[4] = 'Record_Type'\n",
    "        names(read)[3] = 'Timestamp'\n",
    "        names(read)[5] = 'Glucose_Value'\n",
    "        \n",
    "        # filtering out record type = 1 (user scans themselves) and record type = 6 (NA values)\n",
    "        filter_record <- read %>%\n",
    "                         filter(Record_Type != 1) %>%\n",
    "                         filter(Record_Type != 6)\n",
    "        \n",
    "        # separating timestamp into date and time for ease of modifying\n",
    "        filter_timestamp <- filter_record %>%\n",
    "                            separate(Timestamp, sep = \" \", into = c(\"Date\", \"Time\"))\n",
    "        \n",
    "        # establish range for dataframe to filter through\n",
    "        string_range <- c(d1, d2, d3, d4, d5, d6, d7, d8, d9, d10, d11, d12, d13, d14)\n",
    "\n",
    "        filtered_df <- filter_timestamp %>%\n",
    "                       filter(Date %in% string_range)\n",
    "        \n",
    "        # bind created columns 'Date' and 'Time' into single column 'Timestamp' and remove 'Date' and 'Time'\n",
    "        new_df <- mutate(filtered_df, Timestamp = paste(Date, Time))\n",
    "        new_df[, -c(3,4)]\n",
    "        \n",
    "        # selecting only timestamp and glucose value columns\n",
    "        cols <- select(new_df, Timestamp, Glucose_Value)\n",
    "        \n",
    "        # pulling vectors from columns\n",
    "        glucose_vector <- cols %>% pull(Glucose_Value)\n",
    "        \n",
    "        time_vector <- cols %>% pull(Timestamp)\n",
    "        time_dttm <- ymd_hms(time_vector)\n",
    "        minutes <- minutes(time_dttm) # pulling the number of readings (in minutes)\n",
    "        \n",
    "        # calculating percentage of sensor usage within 14 days\n",
    "        Sensor <- (length(glucose_vector) / 1344) * 100\n",
    "        \n",
    "        # performing calculations\n",
    "        Mean <- mean(glucose_vector, na.rm=TRUE) # average glucose\n",
    "        GMI <- 12.71 + 4.70587 * Mean # glucose management indicator (mmol/mol)\n",
    "        SD <- sd(glucose_vector, na.rm=TRUE) # standard deviation\n",
    "        CV <- SD / Mean # coefficient of variation\n",
    "        \n",
    "        # time in range\n",
    "        in_range <- sum(glucose_vector >= 3.9 & glucose_vector <= 10.0, na.rm=TRUE)\n",
    "        TIR <- round(in_range * 1000 / length(minutes)) / 10\n",
    "        \n",
    "        # very low\n",
    "        very_low <- sum(glucose_vector < 3.0, na.rm=TRUE)\n",
    "        TBR_VL <- round(very_low * 1000 / length(minutes)) / 10\n",
    "        \n",
    "        # low\n",
    "        low <- sum(glucose_vector <= 3.8 & glucose_vector >= 3.0, na.rm=TRUE)\n",
    "        TBR_L <- round(low * 1000 / length(minutes)) / 10\n",
    "        \n",
    "        # high\n",
    "        high <- sum(glucose_vector >= 10.1 & glucose_vector <= 13.9, na.rm=TRUE)\n",
    "        TAR_H <- round(high * 1000 / length(minutes)) / 10\n",
    "        \n",
    "        # very high\n",
    "        very_high <- sum(glucose_vector > 13.9, na.rm=TRUE)\n",
    "        TAR_VH <- round(very_high * 1000 / length(minutes)) / 10\n",
    "        \n",
    "        # data frame\n",
    "        df <- data.frame(id_string, TIR, TBR_VL, TBR_L, TAR_H, TAR_VH, GMI, SD, CV, Sensor)\n",
    "    })\n",
    "}"
   ]
  },
  {
   "cell_type": "markdown",
   "id": "d1f51387",
   "metadata": {},
   "source": [
    "### Applying Function - Waitlist Participants"
   ]
  },
  {
   "cell_type": "code",
   "execution_count": null,
   "id": "936eb44d",
   "metadata": {},
   "outputs": [],
   "source": [
    "# template: waitlist1 <- libre_2(\"Data/Participants/Waitlist/Libre2/name_of_csv_file\", \"d1\", \"d2\", \"d3\", \"d4\", \"d5\", \"d6\", \"d7\", \"d8\", \"d9\", \"d10\", \"d11\", \"d12\", \"d13\", \"d14\")\n",
    "# date format: DD-MM-YYYY (e.g. 04-01-2024)\n",
    "# variable assignment convention: waitlist1, waitlist2, waitlist3, ..., waitlistn\n",
    "waitlist1 <- libre_2(...)\n",
    "\n",
    "# template: bind_rows(variable_1...variable_n)\n",
    "# for example, bind_rows(waitlist1, waitlist2, waitlist3...) \n",
    "# we are essentially putting all of the individual dataframes we got for each participant into 1 dataframe to be exported\n",
    "libre2_waitlist <- bind_rows(...) %>%\n",
    "                   filter(Sensor >= 70.0)\n",
    "libre2_waitlist\n",
    "\n",
    "libre2_waitlist_output <- 'Output/libre2_waitlist.csv'\n",
    "write.csv(libre2_waitlist, libre2_waitlist_output)"
   ]
  },
  {
   "cell_type": "markdown",
   "id": "2ae72c44",
   "metadata": {},
   "source": [
    "### Applying Function - Treatment Participants"
   ]
  },
  {
   "cell_type": "code",
   "execution_count": null,
   "id": "6e64f0b7",
   "metadata": {},
   "outputs": [],
   "source": [
    "# template: treatment1 <- libre_2(\"Data/Participants/Treatment/Libre2/name_of_csv_file\", \"d1\", \"d2\", \"d3\", \"d4\", \"d5\", \"d6\", \"d7\", \"d8\", \"d9\", \"d10\", \"d11\", \"d12\", \"d13\", \"d14\")\n",
    "# date format: DD-MM-YYYY (e.g. 04-01-2024)\n",
    "# variable assignment convention: treatment1, treatment2, treatment3, ..., treatmentn\n",
    "treatment1 <- libre_2(...)\n",
    "\n",
    "# template: bind_rows(variable_1...variable_n)\n",
    "# for example, bind_rows(treatment1, treatment2, treatment3...) \n",
    "libre2_treatment <- bind_rows(...) %>%\n",
    "                    filter(Sensor >= 70.0)\n",
    "libre2_treatment\n",
    "\n",
    "libre2_treatment_output <- 'Output/libre2_treatment.csv'\n",
    "write.csv(libre2_treatment, libre2_treatment_output)"
   ]
  },
  {
   "cell_type": "markdown",
   "id": "1798fab4",
   "metadata": {},
   "source": [
    "### Applying Function - Peer Supporters"
   ]
  },
  {
   "cell_type": "code",
   "execution_count": null,
   "id": "6ef0f2f8",
   "metadata": {},
   "outputs": [],
   "source": [
    "# template: treatment1 <- libre_2(\"Data/PeerSupporters/Libre2/name_of_csv_file\", \"d1\", \"d2\", \"d3\", \"d4\", \"d5\", \"d6\", \"d7\", \"d8\", \"d9\", \"d10\", \"d11\", \"d12\", \"d13\", \"d14\")\n",
    "# date format: DD-MM-YYYY (e.g. 04-01-2024)\n",
    "# variable assignment convention: treatment1, treatment2, treatment3, ..., treatmentn\n",
    "ps1 <- libre_2(...)\n",
    "\n",
    "libre2_ps <- bind_rows(..., ...) %>%\n",
    "             filter(Sensor >= 70.0)\n",
    "libre2_ps\n",
    "\n",
    "libre2_ps_output <- 'Output/libre2_ps.csv'\n",
    "write.csv(libre2_ps, libre2_ps_output)"
   ]
  },
  {
   "cell_type": "markdown",
   "id": "24f9757e",
   "metadata": {},
   "source": [
    "## Consolidating Dexcom and Freestyle Libre Data"
   ]
  },
  {
   "cell_type": "markdown",
   "id": "1c003825",
   "metadata": {},
   "source": [
    "### Waitlist Participants\n",
    "\n",
    "Binding the data frames from participants who are Dexcom users and Freestyle Libre 2 users in the waitlist group together into a single data frame, which is written into a .csv file that can be downloaded."
   ]
  },
  {
   "cell_type": "code",
   "execution_count": null,
   "id": "f574d21a",
   "metadata": {},
   "outputs": [],
   "source": [
    "waitlist_output <- 'Output/waitlist.csv'\n",
    "\n",
    "waitlist <- rbind(dex_waitlist, libre2_waitlist)\n",
    "\n",
    "waitlist_id <- transform(waitlist, ID = as.numeric(factor(id_string)))\n",
    "\n",
    "Time = \"Baseline\" # change this to \"6-Months\" when calculating for 6-months\n",
    "Group = \"Waitlist\"\n",
    "\n",
    "waitlist_baseline <- waitlist_id %>% \n",
    "                     select(TIR, TBR_VL, TBR_L, TAR_H, TAR_VH, GMI, SD, CV, Sensor, ID) %>%\n",
    "                     mutate(Time = \"Baseline\",\n",
    "                            Group = \"Waitlist\")\n",
    "                     arrange(ID)\n",
    "waitlist_baseline\n",
    "write.csv(waitlist_baseline, waitlist_output)"
   ]
  },
  {
   "cell_type": "markdown",
   "id": "081b0b1a",
   "metadata": {},
   "source": [
    "### Treatment Participants\n",
    "\n",
    "Binding the data frames from participants who are Dexcom users and Freestyle Libre 2 users in the treatment group together into a single data frame, which is written into a .csv file that can be downloaded."
   ]
  },
  {
   "cell_type": "code",
   "execution_count": null,
   "id": "913b8955",
   "metadata": {},
   "outputs": [],
   "source": [
    "treatment_output <- 'Output/treatment.csv'\n",
    "\n",
    "treatment <- rbind(dex_treatment, libre2_treatment)\n",
    "\n",
    "treatment_id <- transform(treatment, ID = as.numeric(factor(id_string)))\n",
    "\n",
    "Time = \"Baseline\" # change this to \"6-Months\" when calculating for 6-months\n",
    "Group = \"Treatment\"\n",
    "\n",
    "treatment_baseline <- treatment_id %>% \n",
    "                      select(TIR, TBR_VL, TBR_L, TAR_H, TAR_VH, GMI, SD, CV, Sensor, ID, Time, Group) %>% \n",
    "                      arrange(ID)\n",
    "treatment_baseline\n",
    "write.csv(treatment_baseline, treatment_output)"
   ]
  },
  {
   "cell_type": "markdown",
   "id": "728d51df",
   "metadata": {},
   "source": [
    "### Peer Supporters\n",
    "\n",
    "Binding the data frames from peer supporters who are Dexcom users and Freestyle Libre 2 users together into a single data frame, which is written into a .csv file that can be downloaded."
   ]
  },
  {
   "cell_type": "code",
   "execution_count": null,
   "id": "69954e31",
   "metadata": {},
   "outputs": [],
   "source": [
    "ps_output <- 'Output/ps.csv'\n",
    "\n",
    "ps <- rbind(dex_ps, libre2_ps)\n",
    "\n",
    "ps_id <- transform(ps, ID = as.numeric(factor(id_string)))\n",
    "\n",
    "Time = \"Baseline\" # change this to \"6-Months\" when calculating for 6-months\n",
    "Group = \"Peer Supporter\"\n",
    "\n",
    "ps_baseline <- ps_id %>% \n",
    "               select(TIR, TBR_VL, TBR_L, TAR_H, TAR_VH, GMI, SD, CV, Sensor, ID) %>%\n",
    "               mutate(Time, Group) %>%\n",
    "               arrange(ID)\n",
    "ps_baseline\n",
    "write.csv(ps_baseline, ps_output)"
   ]
  },
  {
   "cell_type": "markdown",
   "id": "2a84d2e8",
   "metadata": {},
   "source": [
    "## Visualization\n",
    "\n",
    "Code for visualization should be run once time in range values for both baseline and 6-months have been calculated. "
   ]
  },
  {
   "cell_type": "code",
   "execution_count": null,
   "id": "668d5434",
   "metadata": {},
   "outputs": [],
   "source": [
    "# Prepare data for visualization\n",
    "\n",
    "combine <- rbind(waitlist_baseline, waitlist_post, treatment_baseline, treatment_post, ps_baseline, ps_post)\n",
    "\n",
    "Period <- factor(combine$Time, levels=c(\"Baseline\", \"6-months\"))"
   ]
  },
  {
   "cell_type": "code",
   "execution_count": null,
   "id": "b435992e",
   "metadata": {},
   "outputs": [],
   "source": [
    "options(repr.plot.width = 15, repr.plot.height = 9)\n",
    "\n",
    "plot <- \n",
    "    combine %>%\n",
    "    ggplot() +\n",
    "    geom_line(aes(x = Period, y = TIR, group = ID, color = Group), size = 1) +\n",
    "    geom_point(aes(x = Period, y = TIR, shape = Period, color = Group), size = 5) +\n",
    "    geom_hline(yintercept = 70, colour = \"red\", linetype = \"twodash\") +\n",
    "    annotate(\"text\", label = \"Target\", x = 2.5, y = 71, size = 6, colour = \"red\") +\n",
    "    scale_color_manual(values=c(\"#0000FF\", \"#741b47\", \"#ffa600\")) +\n",
    "    ggtitle(\"Time in Range before and after T1D REACHOUT intervention\") +\n",
    "    xlab(\"Period (Pre and post intervention)\") +\n",
    "    ylab(\"Time in Range (%)\") +\n",
    "    theme(text = element_text(size = 18, family = \"sans\"),\n",
    "          plot.title = element_text(face = \"bold\"),\n",
    "          axis.title = element_text(face = \"bold\")) +\n",
    "    ggsave(\"plot.png\") # you may need to adjust text size in order to view all text in the saved image\n",
    "plot"
   ]
  }
 ],
 "metadata": {
  "kernelspec": {
   "display_name": "R",
   "language": "R",
   "name": "ir"
  },
  "language_info": {
   "codemirror_mode": "r",
   "file_extension": ".r",
   "mimetype": "text/x-r-source",
   "name": "R",
   "pygments_lexer": "r",
   "version": "3.6.1"
  }
 },
 "nbformat": 4,
 "nbformat_minor": 5
}
