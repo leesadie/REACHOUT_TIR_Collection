{
 "cells": [
  {
   "cell_type": "markdown",
   "id": "e4c88222-67f1-43b2-990e-4401de78c118",
   "metadata": {},
   "source": [
    "# TIR Collection"
   ]
  },
  {
   "cell_type": "markdown",
   "id": "7f45fd59-e1d8-48a3-aa22-9c3f7722d957",
   "metadata": {},
   "source": [
    "## Loading relevant libraries"
   ]
  },
  {
   "cell_type": "code",
   "execution_count": null,
   "id": "8de94035-b20e-4dad-834b-9b0e69c5273b",
   "metadata": {
    "tags": []
   },
   "outputs": [],
   "source": [
    "library(tidyverse)\n",
    "library(rGV)"
   ]
  },
  {
   "cell_type": "markdown",
   "id": "a2a9ee6a-44f8-471a-9ef9-60bed20e04aa",
   "metadata": {
    "tags": []
   },
   "source": [
    "## Dexcom\n",
    "Given that the exported CSV files for Dexcom and Freestyle Libre are formatted differently, reading and wrangling must also be carried out differently. Following this, the process for TIR collection is the same for both CGMs."
   ]
  },
  {
   "cell_type": "markdown",
   "id": "a0f9ca4e-5d57-461a-adab-23a3a9eb9e41",
   "metadata": {},
   "source": [
    "### Defining Function"
   ]
  },
  {
   "cell_type": "code",
   "execution_count": null,
   "id": "0c8b7e40-c213-4d2b-8196-abcf4e220191",
   "metadata": {
    "tags": []
   },
   "outputs": [],
   "source": [
    "clean_file <- function(file) {\n",
    "    suppressWarnings ({\n",
    "        read <- read_csv(file, show_col_types = FALSE) \n",
    "        \n",
    "        # renaming columns for ease of modifying rows and columns\n",
    "        names(read)[8] = 'Glucose_Value'\n",
    "        names(read)[2] = 'Timestamp'\n",
    "        names(read)[14] = 'Transmitter_ID'\n",
    "        \n",
    "        # removing top 11 rows that contain user name and alert types (irrelevant) and removing glucose values that are NA\n",
    "        rows <- filter(read, Transmitter_ID != 'NA') %>%\n",
    "                filter(Glucose_Value != 'NA')\n",
    "        # selecting only the timestamp and glucose value columns that will be relevant to calculate statistics\n",
    "        cols <- select(rows, Timestamp, Glucose_Value)\n",
    "        \n",
    "        # pulling vectors from columns to perform calculations\n",
    "        glucose_vector_str <- cols %>% pull(Glucose_Value)\n",
    "        glucose_vector <- as.double(glucose_vector_str) # glucose values were in strings, converting to decimal values for calculations\n",
    "        time_vector <- cols %>% pull(Timestamp)\n",
    "        times <- minute(time_vector) # pulling only minutes from timestamps for compatibility with calculations\n",
    "        \n",
    "        # using the rGV library to perform the following calculations                \n",
    "        mag <- mag(x=glucose_vector, times=times) # mean absolute glucose\n",
    "        cv <- cv(x=glucose_vector, times=times, overall=TRUE) # coefficient of variant\n",
    "        sd <- st_dev(x=glucose_vector, times=times, overall=TRUE) # standard deviation\n",
    "        tir <- tir(x=glucose_vector, low=4.0, high=10.0) # time in range\n",
    "        tbr <- tir(x=glucose_vector, low=0.0, high=3.9) # time below range\n",
    "        tar <- tir(x=glucose_vector, low=10.1, high=25.0) # time above range\n",
    "\n",
    "        # creating a data frame with the statistics calculated\n",
    "        df <- data.frame(tir, tbr, tar, mag, cv, sd)\n",
    "    })\n",
    "}"
   ]
  },
  {
   "cell_type": "markdown",
   "id": "700c8648-7008-4167-bdec-9a3b264b5ca7",
   "metadata": {},
   "source": [
    "### Applying Function\n",
    "Calling the `clean_file` function on all .csv files in the Dexcom folder, and writing the data into a final .csv file."
   ]
  },
  {
   "cell_type": "code",
   "execution_count": null,
   "id": "ad16c248-3cab-4782-9334-721ab012a4d6",
   "metadata": {
    "tags": []
   },
   "outputs": [],
   "source": [
    "output_file <- 'tir_collection/test_df.csv'\n",
    "\n",
    "final_data <- list.files(path = 'tir_collection/data/Dexcom',    \n",
    "                       pattern = \"*.csv\", full.names = TRUE) %>% \n",
    "  lapply(clean_file) %>%                                           \n",
    "  bind_rows                                                      \n",
    "  \n",
    "final_data\n",
    "write.csv(final_data, output_file)"
   ]
  },
  {
   "cell_type": "code",
   "execution_count": null,
   "id": "6f1848ef-36cd-490a-96d4-1205db3595f3",
   "metadata": {},
   "outputs": [],
   "source": []
  }
 ],
 "metadata": {
  "kernelspec": {
   "display_name": "R",
   "language": "R",
   "name": "ir"
  },
  "language_info": {
   "codemirror_mode": "r",
   "file_extension": ".r",
   "mimetype": "text/x-r-source",
   "name": "R",
   "pygments_lexer": "r",
   "version": "4.2.3"
  }
 },
 "nbformat": 4,
 "nbformat_minor": 5
}
