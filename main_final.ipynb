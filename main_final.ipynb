{
 "cells": [
  {
   "cell_type": "markdown",
   "id": "4f49681b",
   "metadata": {},
   "source": [
    "# Time in Range Collection"
   ]
  },
  {
   "cell_type": "markdown",
   "id": "41add781",
   "metadata": {},
   "source": [
    "## Loading relevant libraries\n",
    "\n",
    "`tidyverse` is an R library that contains core packages used to read, analyze, and plot data"
   ]
  },
  {
   "cell_type": "code",
   "execution_count": null,
   "id": "b513505a",
   "metadata": {},
   "outputs": [],
   "source": [
    "library(tidyverse)\n",
    "library(lubridate)"
   ]
  },
  {
   "cell_type": "markdown",
   "id": "bfce5041",
   "metadata": {},
   "source": [
    "## Dexcom\n",
    "\n",
    "Given that the exported .csv files for Dexcom and FreeStyle Libre are formatted differently, reading and wrangling must also be carried out differently. Following this, the formula for calculating TIR is the same for both CGMS."
   ]
  },
  {
   "cell_type": "markdown",
   "id": "2bf32337",
   "metadata": {},
   "source": [
    "### Defining Function"
   ]
  },
  {
   "cell_type": "code",
   "execution_count": null,
   "id": "22bffe89",
   "metadata": {},
   "outputs": [],
   "source": [
    "dexcom <- function(file) {\n",
    "    suppressWarnings({\n",
    "        read <- read_csv(file)\n",
    "        \n",
    "        # renaming columns for ease of use\n",
    "        names(read)[8] = 'Glucose_Value'\n",
    "        names(read)[2] = 'Timestamp'\n",
    "        names(read)[14] = 'Transmitter_ID'\n",
    "        names(read)[5] = 'Patient_Info'\n",
    "        \n",
    "        # creating string based on username and birthdate for ID so comparisons can be made across timepoints\n",
    "        info <- filter(read, Patient_Info != 'NA')\n",
    "        info_string <- info %>% pull(Patient_Info)\n",
    "        id_string <- paste(info_string, collapse = '')\n",
    "        id_string\n",
    "        \n",
    "        # removing top 11 rows that contain user's name and alert types\n",
    "        rows <- filter(read, Transmitter_ID != 'NA') %>%\n",
    "                filter(Glucose_Value != 'NA')\n",
    "        \n",
    "        # selecting only timestamp and glucose value columns for calculations\n",
    "        cols <- select(rows, Timestamp, Glucose_Value)\n",
    "        \n",
    "        # pulling vectors from columns\n",
    "        glucose_vector_str <- cols %>% pull(Glucose_Value)\n",
    "        glucose_vector <- as.double(glucose_vector_str) # converting to decimals\n",
    "        \n",
    "        time_vector <- cols %>% pull(Timestamp)\n",
    "        minutes <- minutes(time_vector) # number of readings in min\n",
    "        \n",
    "        # calculating percentage of sensor readings within 14 days\n",
    "        # only data from participants with >= 70% will be used\n",
    "        Sensor <- (length(glucose_vector) / 4032) * 100\n",
    "        \n",
    "        # calculations\n",
    "        Mean <- mean(glucose_vector, na.rm=TRUE) # average glucose\n",
    "        GMI <- 12.71 + 4.70587 * Mean # glucose management indicator (mmol/mol)\n",
    "        SD <- sd(glucose_vector, na.rm=TRUE) # standard deviation\n",
    "        CV <- SD / Mean # coefficient of variation\n",
    "        \n",
    "        # time in range\n",
    "        in_range <- sum(glucose_vector >= 3.9 & glucose_vector <= 10.0, na.rm=TRUE)\n",
    "        TIR <- round(in_range * 1000 / length(minutes)) / 10\n",
    "        \n",
    "        # very low\n",
    "        very_low <- sum(glucose_vector < 3.0, na.rm=TRUE)\n",
    "        TBR_VL <- round(very_low * 1000 / length(minutes)) / 10\n",
    "        \n",
    "        # low\n",
    "        low <- sum(glucose_vector >= 3.0 & glucose_vector <= 3.8, na.rm=TRUE)\n",
    "        TBR_L <- round(low * 1000 / length(minutes)) / 10\n",
    "        \n",
    "        # high\n",
    "        high <- sum(glucose_vector >= 10.1 & glucose_vector <= 13.9, na.rm=TRUE)\n",
    "        TAR_H <- round(high * 1000 / length(minutes)) / 10\n",
    "        \n",
    "        # very high\n",
    "        very_high <- sum(glucose_vector > 13.9, na.rm=TRUE)\n",
    "        TAR_VH <- round(very_high * 1000 / length(minutes)) / 10\n",
    "        \n",
    "        # consolidating relevant values into data frame\n",
    "        df <- data.frame(id_string, TIR, TBR_VL, TBR_L, TAR_H, TAR_VH, GMI, SD, CV, Sensor)\n",
    "    })\n",
    "}"
   ]
  },
  {
   "cell_type": "markdown",
   "id": "45595808",
   "metadata": {},
   "source": [
    "### Applying Function - Waitlist Participants\n",
    "\n",
    "Calling the `dexcom` function on all .csv files in the Dexcom folder to create a data frame with all data from all participants in the waitlist group who use Dexcom\n",
    "\n",
    "In the final data frame and .csv file (adding both Dexcom and Freestyle Libre using participants to a single data frame), the participants' `id_string`, i.e. their name and birthday, will not be visible and they will be assigned to a unique ID."
   ]
  },
  {
   "cell_type": "code",
   "execution_count": null,
   "id": "8574b4a9",
   "metadata": {
    "scrolled": true
   },
   "outputs": [],
   "source": [
    "dex_waitlist <- list.files(path = 'data_final/Dexcom',    \n",
    "                       pattern = '*.csv', full.names = TRUE) %>% \n",
    "  lapply(dexcom) %>%                                           \n",
    "  bind_rows %>%\n",
    "    filter(Sensor >= 70.0)\n",
    "  \n",
    "dex_waitlist\n",
    "\n",
    "dex_waitlist_output <- 'dex_waitlist.csv'\n",
    "write.csv(dex_waitlist, dex_waitlist_output)"
   ]
  },
  {
   "cell_type": "markdown",
   "id": "f9243965",
   "metadata": {},
   "source": [
    "### Applying Function - Treatment Participants\n",
    "\n",
    "Calling the `dexcom` function on all .csv files in the Dexcom folder to create a data frame with all data from all participants in the treatment group who use Dexcom\n",
    "\n",
    "In the final data frame and .csv file (adding both Dexcom and Freestyle Libre using participants to a single data frame), the participants' `id_string`, i.e. their name and birthday, will not be visible and they will be assigned to a unique ID."
   ]
  },
  {
   "cell_type": "code",
   "execution_count": null,
   "id": "777db624",
   "metadata": {},
   "outputs": [],
   "source": [
    "dex_treatment <- list.files(path = 'data_final/Dexcom',    \n",
    "                       pattern = '*.csv', full.names = TRUE) %>% \n",
    "  lapply(dexcom) %>%                                           \n",
    "  bind_rows %>%\n",
    "    filter(Sensor >= 70.0)\n",
    "  \n",
    "dex_treatment\n",
    "\n",
    "dex_treatment_output <- 'dex_treatment.csv'\n",
    "write.csv(dex_treatment, dex_treatment_output)"
   ]
  },
  {
   "cell_type": "markdown",
   "id": "22463043",
   "metadata": {},
   "source": [
    "### Applying Function - Peer Supporters\n",
    "\n",
    "Calling the `dexcom` function on all .csv files in the Dexcom folder to create a data frame with all data from all peer supporters who use Dexcom\n",
    "\n",
    "In the final data frame and .csv file (adding both Dexcom and Freestyle Libre using participants to a single data frame), the peer supporters' `id_string`, i.e. their name and birthday, will not be visible and they will be assigned to a unique ID."
   ]
  },
  {
   "cell_type": "code",
   "execution_count": null,
   "id": "82d6a668",
   "metadata": {},
   "outputs": [],
   "source": [
    "dex_ps <- list.files(path = 'data_final/Dexcom',    \n",
    "                       pattern = '*.csv', full.names = TRUE) %>% \n",
    "  lapply(dexcom) %>%                                           \n",
    "  bind_rows %>%\n",
    "    filter(Sensor >= 70.0)\n",
    "dex_ps\n",
    "\n",
    "dex_ps_output <- 'dex_ps.csv'\n",
    "write.csv(dex_ps, dex_ps_output)"
   ]
  },
  {
   "cell_type": "markdown",
   "id": "3d4fb699",
   "metadata": {},
   "source": [
    "## Freestyle Libre 2"
   ]
  },
  {
   "cell_type": "markdown",
   "id": "5e0a90ab",
   "metadata": {},
   "source": [
    "### Defining Function"
   ]
  },
  {
   "cell_type": "code",
   "execution_count": null,
   "id": "cab88c46",
   "metadata": {},
   "outputs": [],
   "source": [
    "libre_2 <- function(file) {\n",
    "    suppressWarnings({\n",
    "        \n",
    "        # initial reading to create id\n",
    "        read_id <- read_csv(file)\n",
    "        names(read_id)[1] = 'Patient_report'\n",
    "        names(read_id)[2] = 'Generated_on'\n",
    "        \n",
    "        # creating string based on user name and birthdate for id\n",
    "        info <- filter(read_id, Patient_report != 'FreeStyle Libre 2') %>%\n",
    "                filter(Patient_report != 'FreeStyle LibreLink') %>%\n",
    "                filter(Patient_report != 'Device') %>%\n",
    "                select(Patient_report, Generated_on)\n",
    "        patient_string <- info %>% pull(Patient_report)\n",
    "        date_string <- info %>% pull(Generated_on)\n",
    "        id_string <- paste(patient_string, date_string, collapse = '')\n",
    "        \n",
    "        read <- read_csv(file, skip=2)\n",
    "        \n",
    "        # renaming columns for ease of modifying\n",
    "        names(read)[3]='Timestamp'\n",
    "        names(read)[5]='Glucose_Value'\n",
    "        \n",
    "        # removing NA values in Glucose_Value column\n",
    "        rows <- filter(read, Glucose_Value != 'NA') %>%\n",
    "                filter(read, Timestamp )\n",
    "        \n",
    "        # selecting only timestamp and glucose value columns\n",
    "        cols <- select(rows, Timestamp, Glucose_Value)\n",
    "        \n",
    "        # pulling vectors from columns\n",
    "        glucose_vector <- cols %>% pull(Glucose_Value)\n",
    "        \n",
    "        time_vector <- cols %>% pull(Timestamp)\n",
    "        time_dttm <- ymd_hms(time_vector)\n",
    "        minutes <- minutes(time_dttm) # pulling the number of readings (in minutes)\n",
    "        \n",
    "        # calculating percentage of sensor usage within 14 days\n",
    "        Sensor <- (length(glucose_vector) / 1344) * 100\n",
    "        \n",
    "        # performing calculations\n",
    "        Mean <- mean(glucose_vector, na.rm=TRUE) # average glucose\n",
    "        GMI <- 12.71 + 4.70587 * Mean # glucose management indicator (mmol/mol)\n",
    "        SD <- sd(glucose_vector, na.rm=TRUE) # standard deviation\n",
    "        CV <- SD / Mean # coefficient of variation\n",
    "        \n",
    "        # time in range\n",
    "        in_range <- sum(glucose_vector >= 3.9 & glucose_vector <= 10.0, na.rm=TRUE)\n",
    "        TIR <- round(in_range * 1000 / length(minutes)) / 10\n",
    "        \n",
    "        # very low\n",
    "        very_low <- sum(glucose_vector < 3.0, na.rm=TRUE)\n",
    "        TBR_VL <- round(very_low * 1000 / length(minutes)) / 10\n",
    "        \n",
    "        # low\n",
    "        low <- sum(glucose_vector <= 3.8 & glucose_vector >= 3.0, na.rm=TRUE)\n",
    "        TBR_L <- round(low * 1000 / length(minutes)) / 10\n",
    "        \n",
    "        # high\n",
    "        high <- sum(glucose_vector >= 10.1 & glucose_vector <= 13.9, na.rm=TRUE)\n",
    "        TAR_H <- round(high * 1000 / length(minutes)) / 10\n",
    "        \n",
    "        # very high\n",
    "        very_high <- sum(glucose_vector > 13.9, na.rm=TRUE)\n",
    "        TAR_VH <- round(very_high * 1000 / length(minutes)) / 10\n",
    "        \n",
    "        # data frame\n",
    "        df <- data.frame(id_string, TIR, TBR_VL, TBR_L, TAR_H, TAR_VH, GMI, SD, CV, Sensor)\n",
    "        \n",
    "    })\n",
    "}"
   ]
  },
  {
   "cell_type": "markdown",
   "id": "412abce8",
   "metadata": {},
   "source": [
    "### Applying Function - Waitlist Participants\n",
    "\n",
    "Calling the `libre_2` function on all .csv files in the Libre2 folder to create a data frame with data from all participants in the waitlist group who use the Freestyle Libre 2."
   ]
  },
  {
   "cell_type": "code",
   "execution_count": null,
   "id": "c1fb48c3",
   "metadata": {},
   "outputs": [],
   "source": [
    "libre2_waitlist <- list.files(path = 'data_final/Libre2',    \n",
    "                       pattern = \"*.csv\", full.names = TRUE) %>% \n",
    "  lapply(libre_2) %>%                                           \n",
    "  bind_rows %>%\n",
    "    filter(Sensor >= 70.0)\n",
    "\n",
    "libre2_waitlist\n",
    "\n",
    "libre2_waitlist_output <- 'libre2_waitlist.csv'\n",
    "write.csv(libre2_waitlist, libre2_waitlist_output)"
   ]
  },
  {
   "cell_type": "markdown",
   "id": "95cc442e",
   "metadata": {},
   "source": [
    "### Applying Function - Treatment Participants\n",
    "\n",
    "Calling the `libre_2` function on all .csv files in the Libre2 folder to create a data frame with data from all participants in the treatment group who use the Freestyle Libre 2."
   ]
  },
  {
   "cell_type": "code",
   "execution_count": null,
   "id": "9dee1bff",
   "metadata": {},
   "outputs": [],
   "source": [
    "libre2_treatment <- list.files(path = 'data_final/Libre2',    \n",
    "                       pattern = \"*.csv\", full.names = TRUE) %>% \n",
    "  lapply(libre_2) %>%                                           \n",
    "  bind_rows %>%\n",
    "    filter(Sensor >= 70.0)\n",
    "\n",
    "libre2_treatment\n",
    "\n",
    "libre2_treatment_output <- 'libre2_treatment.csv'\n",
    "write.csv(libre2_treatment, libre2_treatment_output)"
   ]
  },
  {
   "cell_type": "markdown",
   "id": "e3def2b5",
   "metadata": {},
   "source": [
    "### Applying Function - Peer Supporters\n",
    "\n",
    "Calling the `libre_2` function on all .csv files in the Libre2 folder to create a data frame with data from all peer supporters who use the Freestyle Libre 2."
   ]
  },
  {
   "cell_type": "code",
   "execution_count": null,
   "id": "5db8d61e",
   "metadata": {},
   "outputs": [],
   "source": [
    "libre2_ps <- list.files(path = 'data_final/Libre2',    \n",
    "                       pattern = \"*.csv\", full.names = TRUE) %>% \n",
    "  lapply(libre_2) %>%                                           \n",
    "  bind_rows %>%\n",
    "    filter(Sensor >= 70.0)\n",
    "\n",
    "libre2_ps\n",
    "\n",
    "libre2_ps_output <- 'libre2_ps.csv'\n",
    "write.csv(libre2_ps, libre2_ps_output)"
   ]
  },
  {
   "cell_type": "markdown",
   "id": "a521c39b",
   "metadata": {},
   "source": [
    "## Consolidating Dexcom and Freestyle Libre Data - Waitlist Participants\n",
    "\n",
    "Binding the data frames from participants who are Dexcom users and Freestyle Libre 2 users in the waitlist group together into a single data frame, which is written into a .csv file that can be downloaded."
   ]
  },
  {
   "cell_type": "code",
   "execution_count": null,
   "id": "86041446",
   "metadata": {},
   "outputs": [],
   "source": [
    "waitlist_output <- 'waitlist.csv'\n",
    "\n",
    "collection <- rbind(dex_waitlist, libre2_waitlist)\n",
    "\n",
    "collection_id <- transform(collection, ID = as.numeric(factor(id_string)))\n",
    "\n",
    "waitlist_collection <- collection_id %>% select(TIR, TBR_VL, TBR_L, TAR_H, TAR_VH, GMI, SD, CV, Sensor, ID) %>% arrange(ID)\n",
    "waitlist_collection\n",
    "write.csv(waitlist_collection, waitlist_output)"
   ]
  },
  {
   "cell_type": "markdown",
   "id": "b32cb166",
   "metadata": {},
   "source": [
    "## Consolidating Dexcom and Freestyle Libre Data - Treatment Participants\n",
    "\n",
    "Binding the data frames from participants who are Dexcom users and Freestyle Libre 2 users in the treatment group together into a single data frame, which is written into a .csv file that can be downloaded."
   ]
  },
  {
   "cell_type": "code",
   "execution_count": null,
   "id": "aa0b3cb5",
   "metadata": {},
   "outputs": [],
   "source": [
    "treatment_output <- 'treatment.csv'\n",
    "\n",
    "collection <- rbind(dex_treatment, libre2_treatment)\n",
    "\n",
    "collection_id <- transform(collection, ID = as.numeric(factor(id_string)))\n",
    "\n",
    "treatment_collection <- collection_id %>% select(TIR, TBR_VL, TBR_L, TAR_H, TAR_VH, GMI, SD, CV, Sensor, ID) %>% arrange(ID)\n",
    "treatment_collection\n",
    "write.csv(treatment_collection, treatment_output)"
   ]
  },
  {
   "cell_type": "markdown",
   "id": "c457bd66",
   "metadata": {},
   "source": [
    "## Consolidating Dexcom and Freestyle Libre Data - Peer Supporters\n",
    "\n",
    "Binding the data frames from peer supporters who are Dexcom users and Freestyle Libre 2 users together into a single data frame, which is written into a .csv file that can be downloaded."
   ]
  },
  {
   "cell_type": "code",
   "execution_count": null,
   "id": "05a1d29a",
   "metadata": {},
   "outputs": [],
   "source": [
    "ps_output <- 'ps.csv'\n",
    "\n",
    "collection <- rbind(dex_ps, libre2_ps)\n",
    "\n",
    "collection_id <- transform(collection, ID = as.numeric(factor(id_string)))\n",
    "\n",
    "ps_collection <- collection_id %>% select(TIR, TBR_VL, TBR_L, TAR_H, TAR_VH, GMI, SD, CV, Sensor, ID) %>% arrange(ID)\n",
    "ps_collection\n",
    "write.csv(ps_collection, ps_output)"
   ]
  }
 ],
 "metadata": {
  "kernelspec": {
   "display_name": "R",
   "language": "R",
   "name": "ir"
  },
  "language_info": {
   "codemirror_mode": "r",
   "file_extension": ".r",
   "mimetype": "text/x-r-source",
   "name": "R",
   "pygments_lexer": "r",
   "version": "3.6.1"
  }
 },
 "nbformat": 4,
 "nbformat_minor": 5
}
