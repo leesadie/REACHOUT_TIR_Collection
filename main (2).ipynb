{
 "cells": [
  {
   "cell_type": "markdown",
   "id": "93786158",
   "metadata": {},
   "source": [
    "# TIR Collection"
   ]
  },
  {
   "cell_type": "markdown",
   "id": "b9b9be67",
   "metadata": {},
   "source": [
    "## Loading relevant libraries\n",
    "\n",
    "`tidyverse` is an R library that contains core libraries used to read, analyze, and plot data\n",
    "\n",
    "`rGV` is an R package specifically for reading and analyzing continuous glucose monitor data of different formats. The following link contains the research paper explaining how and why the package was created, as well as its relevance to clinical studies.\n",
    "\n",
    "\n",
    "https://www.ncbi.nlm.nih.gov/pmc/articles/PMC9631526/"
   ]
  },
  {
   "cell_type": "code",
   "execution_count": 3,
   "id": "88535bee",
   "metadata": {},
   "outputs": [
    {
     "name": "stderr",
     "output_type": "stream",
     "text": [
      "── \u001b[1mAttaching core tidyverse packages\u001b[22m ──────────────────────────────────────────────────────────────── tidyverse 2.0.0 ──\n",
      "\u001b[32m✔\u001b[39m \u001b[34mdplyr    \u001b[39m 1.1.2     \u001b[32m✔\u001b[39m \u001b[34mreadr    \u001b[39m 2.1.4\n",
      "\u001b[32m✔\u001b[39m \u001b[34mforcats  \u001b[39m 1.0.0     \u001b[32m✔\u001b[39m \u001b[34mstringr  \u001b[39m 1.5.0\n",
      "\u001b[32m✔\u001b[39m \u001b[34mggplot2  \u001b[39m 3.4.3     \u001b[32m✔\u001b[39m \u001b[34mtibble   \u001b[39m 3.2.1\n",
      "\u001b[32m✔\u001b[39m \u001b[34mlubridate\u001b[39m 1.9.2     \u001b[32m✔\u001b[39m \u001b[34mtidyr    \u001b[39m 1.3.0\n",
      "\u001b[32m✔\u001b[39m \u001b[34mpurrr    \u001b[39m 1.0.2     \n",
      "── \u001b[1mConflicts\u001b[22m ────────────────────────────────────────────────────────────────────────────────── tidyverse_conflicts() ──\n",
      "\u001b[31m✖\u001b[39m \u001b[34mdplyr\u001b[39m::\u001b[32mfilter()\u001b[39m masks \u001b[34mstats\u001b[39m::filter()\n",
      "\u001b[31m✖\u001b[39m \u001b[34mdplyr\u001b[39m::\u001b[32mlag()\u001b[39m    masks \u001b[34mstats\u001b[39m::lag()\n",
      "\u001b[36mℹ\u001b[39m Use the conflicted package (\u001b[3m\u001b[34m<http://conflicted.r-lib.org/>\u001b[39m\u001b[23m) to force all conflicts to become errors\n",
      "Loading required package: chron\n",
      "\n",
      "\n",
      "Attaching package: 'chron'\n",
      "\n",
      "\n",
      "The following objects are masked from 'package:lubridate':\n",
      "\n",
      "    days, hours, minutes, seconds, years\n",
      "\n",
      "\n"
     ]
    }
   ],
   "source": [
    "library(tidyverse)\n",
    "library(rGV)"
   ]
  },
  {
   "cell_type": "markdown",
   "id": "55117a28",
   "metadata": {},
   "source": [
    "## Dexcom\n",
    "Given that the exported .csv files for Dexcom and Freestyle Libre are formatted differently, reading and wrangling must also be carried out differently. Following this, the process for TIR collection is the same for both CGMS."
   ]
  },
  {
   "cell_type": "markdown",
   "id": "f3d7fdd3",
   "metadata": {},
   "source": [
    "### Defining Function"
   ]
  },
  {
   "cell_type": "code",
   "execution_count": 38,
   "id": "cd25fd9f",
   "metadata": {},
   "outputs": [],
   "source": [
    "dexcom <- function(file) {\n",
    "    suppressWarnings({\n",
    "        read <- read_csv(file, show_col_types = FALSE)\n",
    "        \n",
    "        # renaming columns for ease of modifying\n",
    "        names(read)[8] = 'Glucose_Value'\n",
    "        names(read)[2] = 'Timestamp'\n",
    "        names(read)[14] = 'Transmitter_ID'\n",
    "        names(read)[5] = 'Patient_Info'\n",
    "        \n",
    "        # creating string based on user name and birthdate for id\n",
    "        info <- filter(read, Patient_Info != 'NA')\n",
    "        info_string <- info %>% pull(Patient_Info)\n",
    "        id_string <- paste(info_string, collapse = '')\n",
    "        id_string\n",
    "        \n",
    "        # removing top 11 rows that contain user's name and alert types\n",
    "        rows <- filter(read, Transmitter_ID != 'NA') %>%\n",
    "                filter(Glucose_Value != 'NA')\n",
    "        \n",
    "        # selecting only timestamp and glucose value columns\n",
    "        cols <- select(rows, Timestamp, Glucose_Value)\n",
    "        \n",
    "        # pulling vectors from columns\n",
    "        glucose_vector_str <- cols %>% pull(Glucose_Value)\n",
    "        glucose_vector <- as.double(glucose_vector_str) # as decimals\n",
    "        \n",
    "        time_vector <- cols %>% pull(Timestamp)\n",
    "        times <- minute(time_vector) # pulling only minutes\n",
    "        \n",
    "        # using rGV library to perform calculations\n",
    "        MAG <- mag(x=glucose_vector, times=times) # mean absolute glucose\n",
    "        CV <- cv(x=glucose_vector, times=times, overall=TRUE) # coefficient of variation\n",
    "        SD <- st_dev(x=glucose_vector, times=times, overall=TRUE) # standard deviation\n",
    "        TIR <- tir(x=glucose_vector, low=3.9, high=10.0) # time in range\n",
    "        TBR <- tir(x=glucose_vector, low=0.0, high=3.8) # time below range\n",
    "        TAR <- tir(x=glucose_vector, low=10.01) # time above range\n",
    "        \n",
    "        # data frame\n",
    "        df <- data.frame(id_string, TIR, TBR, TAR, MAG, SD, CV)\n",
    "        \n",
    "    })\n",
    "}"
   ]
  },
  {
   "cell_type": "markdown",
   "id": "9fddb821",
   "metadata": {},
   "source": [
    "### Applying Function\n",
    "Calling the `dexcom` function on all .csv files in the Dexcom folder to create a data frame with all data from participants who use Dexcom. \n",
    "\n",
    "In the final data frame and .csv file (adding both Dexcom and Freestyle Libre using participants to a single data frame), the participants' `id_string`, i.e. their name and birthday, will not be visible and they will be assigned to a unique ID."
   ]
  },
  {
   "cell_type": "code",
   "execution_count": 39,
   "id": "17fa2e38",
   "metadata": {},
   "outputs": [
    {
     "data": {
      "text/html": [
       "<table class=\"dataframe\">\n",
       "<caption>A data.frame: 3 × 7</caption>\n",
       "<thead>\n",
       "\t<tr><th scope=col>id_string</th><th scope=col>TIR</th><th scope=col>TBR</th><th scope=col>TAR</th><th scope=col>MAG</th><th scope=col>SD</th><th scope=col>CV</th></tr>\n",
       "\t<tr><th scope=col>&lt;chr&gt;</th><th scope=col>&lt;dbl&gt;</th><th scope=col>&lt;dbl&gt;</th><th scope=col>&lt;dbl&gt;</th><th scope=col>&lt;dbl&gt;</th><th scope=col>&lt;dbl&gt;</th><th scope=col>&lt;dbl&gt;</th></tr>\n",
       "</thead>\n",
       "<tbody>\n",
       "\t<tr><td>JonDoe1/3/1959 </td><td>49.54582</td><td>1.472793</td><td>48.98139</td><td>4265.263</td><td>3.764559</td><td>0.3655763</td></tr>\n",
       "\t<tr><td>JonDoe1/3/1959 </td><td>49.53700</td><td>1.472793</td><td>48.99021</td><td>4256.526</td><td>3.764705</td><td>0.3655777</td></tr>\n",
       "\t<tr><td>LisaDoe1/3/1960</td><td>49.53700</td><td>1.472793</td><td>48.99021</td><td>4256.526</td><td>3.764705</td><td>0.3655777</td></tr>\n",
       "</tbody>\n",
       "</table>\n"
      ],
      "text/latex": [
       "A data.frame: 3 × 7\n",
       "\\begin{tabular}{lllllll}\n",
       " id\\_string & TIR & TBR & TAR & MAG & SD & CV\\\\\n",
       " <chr> & <dbl> & <dbl> & <dbl> & <dbl> & <dbl> & <dbl>\\\\\n",
       "\\hline\n",
       "\t JonDoe1/3/1959  & 49.54582 & 1.472793 & 48.98139 & 4265.263 & 3.764559 & 0.3655763\\\\\n",
       "\t JonDoe1/3/1959  & 49.53700 & 1.472793 & 48.99021 & 4256.526 & 3.764705 & 0.3655777\\\\\n",
       "\t LisaDoe1/3/1960 & 49.53700 & 1.472793 & 48.99021 & 4256.526 & 3.764705 & 0.3655777\\\\\n",
       "\\end{tabular}\n"
      ],
      "text/markdown": [
       "\n",
       "A data.frame: 3 × 7\n",
       "\n",
       "| id_string &lt;chr&gt; | TIR &lt;dbl&gt; | TBR &lt;dbl&gt; | TAR &lt;dbl&gt; | MAG &lt;dbl&gt; | SD &lt;dbl&gt; | CV &lt;dbl&gt; |\n",
       "|---|---|---|---|---|---|---|\n",
       "| JonDoe1/3/1959  | 49.54582 | 1.472793 | 48.98139 | 4265.263 | 3.764559 | 0.3655763 |\n",
       "| JonDoe1/3/1959  | 49.53700 | 1.472793 | 48.99021 | 4256.526 | 3.764705 | 0.3655777 |\n",
       "| LisaDoe1/3/1960 | 49.53700 | 1.472793 | 48.99021 | 4256.526 | 3.764705 | 0.3655777 |\n",
       "\n"
      ],
      "text/plain": [
       "  id_string       TIR      TBR      TAR      MAG      SD       CV       \n",
       "1 JonDoe1/3/1959  49.54582 1.472793 48.98139 4265.263 3.764559 0.3655763\n",
       "2 JonDoe1/3/1959  49.53700 1.472793 48.99021 4256.526 3.764705 0.3655777\n",
       "3 LisaDoe1/3/1960 49.53700 1.472793 48.99021 4256.526 3.764705 0.3655777"
      ]
     },
     "metadata": {},
     "output_type": "display_data"
    }
   ],
   "source": [
    "# output_file <- 'test_df.csv' (used for testing purposes)\n",
    "\n",
    "dex_data <- list.files(path = 'data/Dexcom',    \n",
    "                       pattern = \"*.csv\", full.names = TRUE) %>% \n",
    "  lapply(dexcom) %>%                                           \n",
    "  bind_rows\n",
    "  \n",
    "dex_data"
   ]
  },
  {
   "cell_type": "markdown",
   "id": "bb5f72de",
   "metadata": {},
   "source": [
    "## Freestyle Libre"
   ]
  },
  {
   "cell_type": "markdown",
   "id": "eecda207",
   "metadata": {},
   "source": [
    "### Defining Function"
   ]
  },
  {
   "cell_type": "code",
   "execution_count": 40,
   "id": "68bbda84",
   "metadata": {},
   "outputs": [],
   "source": [
    "libre <- function(file) {\n",
    "    suppressWarnings({\n",
    "        \n",
    "        # initial reading to create id\n",
    "        read_id <- read_csv(file, show_col_types=FALSE)\n",
    "        names(read_id)[1] = 'Patient_report'\n",
    "        names(read_id)[2] = 'Generated_on'\n",
    "        \n",
    "        # creating string based on user name and birthdate for id\n",
    "        info <- filter(read_id, Patient_report != 'FreeStyle Libre 2') %>%\n",
    "                filter(Patient_report != 'Device') %>%\n",
    "                select(Patient_report, Generated_on)\n",
    "        patient_string <- info %>% pull(Patient_report)\n",
    "        date_string <- info %>% pull(Generated_on)\n",
    "        id_string <- paste(patient_string, date_string, collapse = '')\n",
    "        \n",
    "        read <- read_csv(file, skip=2, show_col_types=FALSE)\n",
    "        \n",
    "        # renaming columns for ease of modifying\n",
    "        names(read)[3]='Timestamp'\n",
    "        names(read)[5]='Glucose_Value'\n",
    "        \n",
    "        # removing NA values in Glucose_Value column\n",
    "        rows <- filter(read, Glucose_Value != 'NA')\n",
    "        \n",
    "        # selecting only timestamp and glucose value columns\n",
    "        cols <- select(rows, Timestamp, Glucose_Value)\n",
    "        \n",
    "        # pulling vectors from columns\n",
    "        glucose_vector <- cols %>% pull(Glucose_Value)\n",
    "        \n",
    "        time_vector <- cols %>% pull(Timestamp)\n",
    "        time_dttm <- ymd_hms(time_vector)\n",
    "        times <- minutes(time_dttm)\n",
    "        \n",
    "        # using rGV library to perform calculations\n",
    "        MAG <- mag(x=glucose_vector, times=times) # mean absolute glucose\n",
    "        CV <- cv(x=glucose_vector, times=times, overall=TRUE) # coefficient of variation\n",
    "        SD <- st_dev(x=glucose_vector, times=times, overall=TRUE) # standard deviation\n",
    "        TIR <- tir(x=glucose_vector, low=3.9, high=10.0) # time in range\n",
    "        TBR <- tir(x=glucose_vector, low=0.0, high=3.8) # time below range\n",
    "        TAR <- tir(x=glucose_vector, low=10.01) # time above range\n",
    "        \n",
    "        # data frame\n",
    "        df <- data.frame(id_string, TIR, TBR, TAR, MAG, SD, CV)\n",
    "        \n",
    "    })\n",
    "}"
   ]
  },
  {
   "cell_type": "markdown",
   "id": "d49eda6d",
   "metadata": {},
   "source": [
    "### Applying Function\n",
    "\n",
    "Calling the `libre` function on all .csv files in the Libre folder to create a data frame with all data from participants who use Freestyle Libre."
   ]
  },
  {
   "cell_type": "code",
   "execution_count": 41,
   "id": "653d53f6",
   "metadata": {},
   "outputs": [
    {
     "name": "stderr",
     "output_type": "stream",
     "text": [
      "\u001b[1m\u001b[22mNew names:\n",
      "\u001b[36m•\u001b[39m `` -> `...6`\n",
      "\u001b[36m•\u001b[39m `` -> `...7`\n",
      "\u001b[36m•\u001b[39m `` -> `...8`\n",
      "\u001b[36m•\u001b[39m `` -> `...9`\n",
      "\u001b[36m•\u001b[39m `` -> `...10`\n",
      "\u001b[36m•\u001b[39m `` -> `...11`\n",
      "\u001b[36m•\u001b[39m `` -> `...12`\n",
      "\u001b[36m•\u001b[39m `` -> `...13`\n",
      "\u001b[36m•\u001b[39m `` -> `...14`\n",
      "\u001b[36m•\u001b[39m `` -> `...15`\n",
      "\u001b[36m•\u001b[39m `` -> `...16`\n",
      "\u001b[36m•\u001b[39m `` -> `...17`\n",
      "\u001b[36m•\u001b[39m `` -> `...18`\n",
      "\u001b[36m•\u001b[39m `` -> `...19`\n"
     ]
    },
    {
     "data": {
      "text/html": [
       "<table class=\"dataframe\">\n",
       "<caption>A data.frame: 3 × 7</caption>\n",
       "<thead>\n",
       "\t<tr><th scope=col>id_string</th><th scope=col>TIR</th><th scope=col>TBR</th><th scope=col>TAR</th><th scope=col>MAG</th><th scope=col>SD</th><th scope=col>CV</th></tr>\n",
       "\t<tr><th scope=col>&lt;chr&gt;</th><th scope=col>&lt;dbl&gt;</th><th scope=col>&lt;dbl&gt;</th><th scope=col>&lt;dbl&gt;</th><th scope=col>&lt;dbl&gt;</th><th scope=col>&lt;dbl&gt;</th><th scope=col>&lt;dbl&gt;</th></tr>\n",
       "</thead>\n",
       "<tbody>\n",
       "\t<tr><td>Jonathan Doe 11-09-1971</td><td>98.65501</td><td>0.549923806</td><td> 0.7950706</td><td>12995.7391</td><td>1.137257</td><td>0.1811168</td></tr>\n",
       "\t<tr><td>Jon Doe 19-11-1963     </td><td>56.29213</td><td>0.000000000</td><td>43.7078652</td><td>  805.3043</td><td>1.248841</td><td>0.1241643</td></tr>\n",
       "\t<tr><td>Lisa Doe 27-11-1964    </td><td>61.84714</td><td>0.006173602</td><td>38.1466848</td><td>15482.3478</td><td>1.954583</td><td>0.2011599</td></tr>\n",
       "</tbody>\n",
       "</table>\n"
      ],
      "text/latex": [
       "A data.frame: 3 × 7\n",
       "\\begin{tabular}{lllllll}\n",
       " id\\_string & TIR & TBR & TAR & MAG & SD & CV\\\\\n",
       " <chr> & <dbl> & <dbl> & <dbl> & <dbl> & <dbl> & <dbl>\\\\\n",
       "\\hline\n",
       "\t Jonathan Doe 11-09-1971 & 98.65501 & 0.549923806 &  0.7950706 & 12995.7391 & 1.137257 & 0.1811168\\\\\n",
       "\t Jon Doe 19-11-1963      & 56.29213 & 0.000000000 & 43.7078652 &   805.3043 & 1.248841 & 0.1241643\\\\\n",
       "\t Lisa Doe 27-11-1964     & 61.84714 & 0.006173602 & 38.1466848 & 15482.3478 & 1.954583 & 0.2011599\\\\\n",
       "\\end{tabular}\n"
      ],
      "text/markdown": [
       "\n",
       "A data.frame: 3 × 7\n",
       "\n",
       "| id_string &lt;chr&gt; | TIR &lt;dbl&gt; | TBR &lt;dbl&gt; | TAR &lt;dbl&gt; | MAG &lt;dbl&gt; | SD &lt;dbl&gt; | CV &lt;dbl&gt; |\n",
       "|---|---|---|---|---|---|---|\n",
       "| Jonathan Doe 11-09-1971 | 98.65501 | 0.549923806 |  0.7950706 | 12995.7391 | 1.137257 | 0.1811168 |\n",
       "| Jon Doe 19-11-1963      | 56.29213 | 0.000000000 | 43.7078652 |   805.3043 | 1.248841 | 0.1241643 |\n",
       "| Lisa Doe 27-11-1964     | 61.84714 | 0.006173602 | 38.1466848 | 15482.3478 | 1.954583 | 0.2011599 |\n",
       "\n"
      ],
      "text/plain": [
       "  id_string               TIR      TBR         TAR        MAG        SD      \n",
       "1 Jonathan Doe 11-09-1971 98.65501 0.549923806  0.7950706 12995.7391 1.137257\n",
       "2 Jon Doe 19-11-1963      56.29213 0.000000000 43.7078652   805.3043 1.248841\n",
       "3 Lisa Doe 27-11-1964     61.84714 0.006173602 38.1466848 15482.3478 1.954583\n",
       "  CV       \n",
       "1 0.1811168\n",
       "2 0.1241643\n",
       "3 0.2011599"
      ]
     },
     "metadata": {},
     "output_type": "display_data"
    }
   ],
   "source": [
    "# output_file <- 'final_df.csv' (used for testing purposes)\n",
    "\n",
    "libre_data <- list.files(path = 'data/Libre',    \n",
    "                       pattern = \"*.csv\", full.names = TRUE) %>% \n",
    "  lapply(libre) %>%                                           \n",
    "  bind_rows                                                      \n",
    "\n",
    "libre_data"
   ]
  },
  {
   "cell_type": "markdown",
   "id": "33329692",
   "metadata": {},
   "source": [
    "## Putting it all together\n",
    "\n",
    "Binding the dataframes from Dexcom users and Freestyle Libre users together into a single dataframe, which is written into a .csv file that can be downloaded."
   ]
  },
  {
   "cell_type": "code",
   "execution_count": 42,
   "id": "fedd9d5e",
   "metadata": {},
   "outputs": [
    {
     "data": {
      "text/html": [
       "<table class=\"dataframe\">\n",
       "<caption>A data.frame: 6 × 7</caption>\n",
       "<thead>\n",
       "\t<tr><th scope=col>TIR</th><th scope=col>TBR</th><th scope=col>TAR</th><th scope=col>MAG</th><th scope=col>SD</th><th scope=col>CV</th><th scope=col>ID</th></tr>\n",
       "\t<tr><th scope=col>&lt;dbl&gt;</th><th scope=col>&lt;dbl&gt;</th><th scope=col>&lt;dbl&gt;</th><th scope=col>&lt;dbl&gt;</th><th scope=col>&lt;dbl&gt;</th><th scope=col>&lt;dbl&gt;</th><th scope=col>&lt;dbl&gt;</th></tr>\n",
       "</thead>\n",
       "<tbody>\n",
       "\t<tr><td>56.29213</td><td>0.000000000</td><td>43.7078652</td><td>  805.3043</td><td>1.248841</td><td>0.1241643</td><td>1</td></tr>\n",
       "\t<tr><td>98.65501</td><td>0.549923806</td><td> 0.7950706</td><td>12995.7391</td><td>1.137257</td><td>0.1811168</td><td>2</td></tr>\n",
       "\t<tr><td>49.54582</td><td>1.472793015</td><td>48.9813917</td><td> 4265.2632</td><td>3.764559</td><td>0.3655763</td><td>3</td></tr>\n",
       "\t<tr><td>49.53700</td><td>1.472793015</td><td>48.9902108</td><td> 4256.5263</td><td>3.764705</td><td>0.3655777</td><td>3</td></tr>\n",
       "\t<tr><td>61.84714</td><td>0.006173602</td><td>38.1466848</td><td>15482.3478</td><td>1.954583</td><td>0.2011599</td><td>4</td></tr>\n",
       "\t<tr><td>49.53700</td><td>1.472793015</td><td>48.9902108</td><td> 4256.5263</td><td>3.764705</td><td>0.3655777</td><td>5</td></tr>\n",
       "</tbody>\n",
       "</table>\n"
      ],
      "text/latex": [
       "A data.frame: 6 × 7\n",
       "\\begin{tabular}{lllllll}\n",
       " TIR & TBR & TAR & MAG & SD & CV & ID\\\\\n",
       " <dbl> & <dbl> & <dbl> & <dbl> & <dbl> & <dbl> & <dbl>\\\\\n",
       "\\hline\n",
       "\t 56.29213 & 0.000000000 & 43.7078652 &   805.3043 & 1.248841 & 0.1241643 & 1\\\\\n",
       "\t 98.65501 & 0.549923806 &  0.7950706 & 12995.7391 & 1.137257 & 0.1811168 & 2\\\\\n",
       "\t 49.54582 & 1.472793015 & 48.9813917 &  4265.2632 & 3.764559 & 0.3655763 & 3\\\\\n",
       "\t 49.53700 & 1.472793015 & 48.9902108 &  4256.5263 & 3.764705 & 0.3655777 & 3\\\\\n",
       "\t 61.84714 & 0.006173602 & 38.1466848 & 15482.3478 & 1.954583 & 0.2011599 & 4\\\\\n",
       "\t 49.53700 & 1.472793015 & 48.9902108 &  4256.5263 & 3.764705 & 0.3655777 & 5\\\\\n",
       "\\end{tabular}\n"
      ],
      "text/markdown": [
       "\n",
       "A data.frame: 6 × 7\n",
       "\n",
       "| TIR &lt;dbl&gt; | TBR &lt;dbl&gt; | TAR &lt;dbl&gt; | MAG &lt;dbl&gt; | SD &lt;dbl&gt; | CV &lt;dbl&gt; | ID &lt;dbl&gt; |\n",
       "|---|---|---|---|---|---|---|\n",
       "| 56.29213 | 0.000000000 | 43.7078652 |   805.3043 | 1.248841 | 0.1241643 | 1 |\n",
       "| 98.65501 | 0.549923806 |  0.7950706 | 12995.7391 | 1.137257 | 0.1811168 | 2 |\n",
       "| 49.54582 | 1.472793015 | 48.9813917 |  4265.2632 | 3.764559 | 0.3655763 | 3 |\n",
       "| 49.53700 | 1.472793015 | 48.9902108 |  4256.5263 | 3.764705 | 0.3655777 | 3 |\n",
       "| 61.84714 | 0.006173602 | 38.1466848 | 15482.3478 | 1.954583 | 0.2011599 | 4 |\n",
       "| 49.53700 | 1.472793015 | 48.9902108 |  4256.5263 | 3.764705 | 0.3655777 | 5 |\n",
       "\n"
      ],
      "text/plain": [
       "  TIR      TBR         TAR        MAG        SD       CV        ID\n",
       "1 56.29213 0.000000000 43.7078652   805.3043 1.248841 0.1241643 1 \n",
       "2 98.65501 0.549923806  0.7950706 12995.7391 1.137257 0.1811168 2 \n",
       "3 49.54582 1.472793015 48.9813917  4265.2632 3.764559 0.3655763 3 \n",
       "4 49.53700 1.472793015 48.9902108  4256.5263 3.764705 0.3655777 3 \n",
       "5 61.84714 0.006173602 38.1466848 15482.3478 1.954583 0.2011599 4 \n",
       "6 49.53700 1.472793015 48.9902108  4256.5263 3.764705 0.3655777 5 "
      ]
     },
     "metadata": {},
     "output_type": "display_data"
    }
   ],
   "source": [
    "output_file <- 'new_df.csv'\n",
    "\n",
    "collection <- rbind(dex_data, libre_data)\n",
    "\n",
    "collection_id <- transform(collection, ID = as.numeric(factor(id_string)))\n",
    "\n",
    "final_collection <- collection_id %>% select(TIR, TBR, TAR, MAG, SD, CV, ID) %>% arrange(ID)\n",
    "final_collection\n",
    "write.csv(final_collection, output_file)"
   ]
  },
  {
   "cell_type": "markdown",
   "id": "fd83b491",
   "metadata": {},
   "source": [
    "## A note on user ID\n",
    "\n",
    "A participant's ID is generated based on the unique string of their name (first and last) and birthday which is found in their point in time .csv output file. In the final data frame, this string is not visible to maintain anonymity of participants.\n",
    "\n",
    "This will be particularly beneficial when comparing a participant's time in range at the three-month and six-month mark. The data frames from each mark can be bound together with the ID number arranged sequentially so that a participant's data can be easily compared. \n",
    "\n",
    "As an example, the `id_string` was identical for two of the files from Dexcom users, which is then reflected in the two `3` values seen in the ID column of the `final_collection` data frame above."
   ]
  }
 ],
 "metadata": {
  "kernelspec": {
   "display_name": "R",
   "language": "R",
   "name": "ir"
  },
  "language_info": {
   "codemirror_mode": "r",
   "file_extension": ".r",
   "mimetype": "text/x-r-source",
   "name": "R",
   "pygments_lexer": "r",
   "version": "4.3.1"
  }
 },
 "nbformat": 4,
 "nbformat_minor": 5
}
